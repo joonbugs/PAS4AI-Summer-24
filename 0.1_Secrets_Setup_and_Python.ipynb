{
 "cells": [
  {
   "cell_type": "markdown",
   "metadata": {},
   "source": [
    "# Module 0.1 - Secrets Setup and Python\n",
    "\n",
    "_PAS4AI Workforce Summer 2024_\n",
    "\n",
    "[![Open In Colab](https://colab.research.google.com/assets/colab-badge.svg)](https://colab.research.google.com/github/joonbugs/My-Test-Repository/blob/main/Large_Language_Models.ipynb)"
   ]
  },
  {
   "cell_type": "markdown",
   "metadata": {},
   "source": [
    "# LLM Rules:\n",
    "You may freely use the `simple_chat` function provided below after you set up your API keys. You may not use any other LLM. \n",
    "\n",
    "This LLM has been preprompted to not share code or function names. (If you can manage to get it to give them to you, that's fine too. (You should share how you managed it in the #social channel and we can discuss it!)) You'll also find that this llm has no memory - as we'll see on Thursday, all llm calls are stateless, so we have to provide the past conversation if we want it to \"remember\" it.\n",
    "\n",
    "You should put all prompts that you used in cells either immediately before or after an \"Answer\" cell. If you use the llm to find out what a function does, you should also search for that answer online and see if you can find it/understand the documentation - state this as a comment in your answer cell."
   ]
  },
  {
   "cell_type": "markdown",
   "metadata": {},
   "source": [
    "# Part 1: Discord and Proxy Key Setup\n",
    "As part of a project this week, we're going to be working on implementing a discord bot. We'll go ahead and set up that bot now and make sure we can use the key. We'll also set up a key for the course proxy and use that to call a simple llm.\n",
    "\n",
    "1. Visit the Discord Developer Portal ([link](https://discord.com/developers)) and Log In with the same Discord account as the one registered for the PAS4AI Server.\n",
    "2. Click \"New Application\"\n",
    "\n",
    "<img src=\"https://www.rorytm.com/pas4ai/image1.jpg\" alt=\"Step 2 Image\" width=\"800\"/>\n",
    "\n",
    "3. Create an application (name doesn't really matter) & agree to Discord's Developer Terms\n",
    "4. Copy the *Application ID*\n",
    "\n",
    "<img src=\"https://www.rorytm.com/pas4ai/image2.jpg\" alt=\"Step 4 Image\" width=\"800\"/>\n",
    "\n",
    "5. Go to the OAuth2 tab (you may need to widen your browser window so that it appears)\n",
    "\n",
    "<img src=\"https://www.rorytm.com/pas4ai/image3.jpg\" alt=\"Step 5 Image\" width=\"800\"/>\n",
    "\n",
    "6. Under *Redirects* - add `https://pas4ai.rorytm.com`\n",
    "7. Go to the Bot sidebar and enable the *Message Content Intent* slider (as shown in the image)\n",
    "\n",
    "<img src=\"https://www.rorytm.com/pas4ai/image4.jpg\" alt=\"Step 7 Image\" width=\"800\"/>\n",
    "\n",
    "8. Also in the Bot sidebar - press the *Reset Token* button (and copy the new token code / string) for your records.\n",
    "9. Next, send a message to **Pan** in the #pans-playground channel on Discord asking to add your bot. Include your *Application ID* from step 4.\n",
    "10. While you're here, you should also ask **Pan** for an API key, which will then be DMd to you. Save this as well.\n",
    "11. Next, we're going to add these to your colab secrets so that we can get them in the future without having to save them in the notebooks. (You should never include either of these in plain text or print them anywhere.)\n",
    "\n",
    "12. On the left side of this notebook, click on the key icon. Here, click \"Add new secret\" and create each of the following key:value pairs:\n",
    "- proxy_key: the API key that Pan DMd you\n",
    "- discord_key: the private token from step 8.\n",
    "\n",
    "13. Finally, click the toggle next to each one so that they can be accessed by this notebook. (Note: you'll need to repeat this step for each notebook that you want to use them in.)\n",
    "\n",
    "<img src=\"https://www.rorytm.com/pas4ai/image5.jpg\" alt=\"Step 14 Image\" width=\"400\"/>\n"
   ]
  },
  {
   "cell_type": "markdown",
   "metadata": {},
   "source": [
    "# Next, let's test that our keys work. Run these three cells without modifying them.\n",
    "\n",
    "If the first has an error, make sure you've correctly added and enabled the secrets above.\n",
    "\n",
    "If either of the remaining two have an error, go back up and make sure your keys are correct.\n",
    "\n",
    "If you need help, put a message in your private discord channel with @Rory."
   ]
  },
  {
   "cell_type": "code",
   "execution_count": null,
   "metadata": {},
   "outputs": [],
   "source": [
    "# This cell will load our keys from the secrets.\n",
    "import requests\n",
    "import json\n",
    "from google.colab import userdata\n",
    "\n",
    "PROXY_KEY = userdata.get('proxy_key')\n",
    "DISCORD_KEY = userdata.get('discord_key')"
   ]
  },
  {
   "cell_type": "code",
   "execution_count": null,
   "metadata": {},
   "outputs": [],
   "source": [
    "# This cell will return information about the discord bot.\n",
    "def test_discord_bot_token(token):\n",
    "    url = \"https://discord.com/api/v10/users/@me\"\n",
    "    headers = {\n",
    "        \"Authorization\": f\"Bot {token}\"\n",
    "    }\n",
    "\n",
    "    response = requests.get(url, headers=headers)\n",
    "\n",
    "    if response.status_code == 200:\n",
    "        print(\"The token is valid.\")\n",
    "        print(\"Bot information:\")\n",
    "        bot_info = response.json()\n",
    "        print(json.dumps(bot_info, indent=4))\n",
    "\n",
    "    else:\n",
    "        print(\"The token is invalid or something went wrong.\")\n",
    "        print(f\"Response code: {response.status_code}\")\n",
    "        print(\"Response message:\")\n",
    "        print(response.text)\n",
    "\n",
    "test_discord_bot_token(DISCORD_KEY)"
   ]
  },
  {
   "cell_type": "code",
   "execution_count": null,
   "metadata": {},
   "outputs": [],
   "source": [
    "# This cell will show some llm prompt examples.\n",
    "def simple_chat(message):\n",
    "    url = \"https://pas4ai.rorytm.com/api/module1-simple-chat\"\n",
    "    headers = {\n",
    "        \"Authorization\": f\"Bearer {PROXY_KEY}\"\n",
    "    }\n",
    "    body = {\n",
    "        \"message\": message\n",
    "    }\n",
    "\n",
    "    response = requests.post(url, headers=headers, json=body, timeout=None)\n",
    "\n",
    "    result = \"\"\n",
    "    if response.status_code == 200:\n",
    "        response_body = response.content.decode(\"utf-8\")\n",
    "        result += json.loads(response_body)\n",
    "\n",
    "    else:\n",
    "        result += \"The token is invalid or something went wrong.\\n\"\n",
    "        result += f\"Response code: {response.status_code}\\n\"\n",
    "        result += \"Response message:\\n\"\n",
    "        result += response.text\n",
    "\n",
    "    return result\n",
    "\n",
    "print(simple_chat(\"What is Python3?\"))\n",
    "print('\\n'*5)\n",
    "print(simple_chat(\"Use a for loop to sum the first 12 primes\"))"
   ]
  },
  {
   "cell_type": "markdown",
   "metadata": {},
   "source": [
    "\n",
    "# Part 2: Intros\n",
    "- Why you’re here:\n",
    "  - Hopes for AI?\n",
    "  - Hopes for ASD in the workplace?\n",
    "- What your background is:\n",
    "  - Academic\n",
    "  - Professional\n",
    "- Hobbies/Experiences:\n",
    "  - Activities\n",
    "  - Projects\n",
    "  - Unusual Experiences\n",
    "- Interests:\n",
    "  - Your background in the interest\n",
    "  - The interest itself\n",
    "\n",
    "## Question 1:\n",
    "Pick 4 of the topics above and, for each, write out what you would say/cover in a 3-6 sentence intro. Also give a separate, 1-2 sentence statement on why you chose that topic.\n",
    "\n",
    "## Answer 1:"
   ]
  },
  {
   "cell_type": "markdown",
   "metadata": {},
   "source": [
    "### Topic 1 Intro:\n",
    "\n",
    "\n",
    "### Topic 1 Reason:\n",
    "\n",
    "\n",
    "### Topic 2 Intro:\n",
    "\n",
    "\n",
    "### Topic 2 Reason:\n",
    "\n",
    "\n",
    "### Topic 3 Intro:\n",
    "\n",
    "\n",
    "### Topic 3 Reason:\n",
    "\n",
    "\n",
    "### Topic 4 Intro:\n",
    "\n",
    "\n",
    "### Topic 4 Reason:\n",
    "\n",
    "\n"
   ]
  },
  {
   "cell_type": "markdown",
   "metadata": {},
   "source": [
    "# Part 3: Group Preferences\n",
    "\n",
    "## Question 2:\n",
    "Thinking about the team contract items discussed in class, choose 3 items that you consider the most important to you. For each item, list your preference and give a 1-3 sentence explanation of why it's important to you.\n",
    "\n",
    "## Answer 2:\n",
    "\n",
    "\n"
   ]
  },
  {
   "cell_type": "markdown",
   "metadata": {},
   "source": [
    "### Item 1:\n",
    "\n",
    "\n",
    "### Item 2:\n",
    "\n",
    "\n",
    "### Item 3:\n",
    "\n"
   ]
  },
  {
   "cell_type": "markdown",
   "metadata": {},
   "source": [
    "# Part 4: Python Fundamentals\n",
    "Some part of this material is adapted from SureStart's curriculum."
   ]
  },
  {
   "cell_type": "markdown",
   "metadata": {
    "id": "TlKwoGjv4DKw"
   },
   "source": [
    "![image.png](data:image/png;base64,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)"
   ]
  },
  {
   "cell_type": "markdown",
   "metadata": {
    "id": "ffeA-z35WX7a"
   },
   "source": [
    "# What is Python?\n",
    "\n",
    "Python is a high-level, interpreted programming language that is widely used for\n",
    "* Web development,\n",
    "* Data analysis,\n",
    "* Artificial intelligence, and\n",
    "* Scientific computing.\n",
    "\n",
    "It was created by Guido van Rossum and released in 1991."
   ]
  },
  {
   "cell_type": "markdown",
   "metadata": {
    "id": "7GnoU2QFWvnL"
   },
   "source": [
    "# Why are we using Python in this curriculum?\n",
    "\n",
    "Python has become one of the most popular languages for building deep learning models due to its **simplicity**, **readability**, and the **availability of many useful libraries** for scientific computing, data analysis, and machine learning.\n",
    "\n",
    "Python frameworks provide a high-level API that makes it easier to build and train deep *neural networks*.\n",
    "\n",
    "Python's object-oriented design and dynamic typing allow for efficient experimentation and prototyping of new deep learning models."
   ]
  },
  {
   "cell_type": "markdown",
   "metadata": {
    "id": "A5aPBnw1h9DA"
   },
   "source": [
    "# Inputs and Outputs\n",
    "\n",
    "In Python, the standard input (stdin) and standard output (stdout) are used for communicating with the user and other programs.\n",
    "\n",
    "By default, stdin represents the keyboard input, and stdout represents the console output.\n",
    "\n",
    "However, you can redirect these input and output streams to read from or write to a file or another program."
   ]
  },
  {
   "cell_type": "markdown",
   "metadata": {
    "id": "_wBF-ls_iR48"
   },
   "source": [
    "## Output Functionality in Python: `print()`\n",
    "\n",
    "To print output in Python, you can use the built-in `print()` function. See some usage examples below."
   ]
  },
  {
   "cell_type": "code",
   "execution_count": null,
   "metadata": {
    "colab": {
     "base_uri": "https://localhost:8080/"
    },
    "id": "mmC0P1fCikfm",
    "outputId": "ec6ce6d8-f280-41ea-cde5-be9142801571"
   },
   "outputs": [],
   "source": [
    "# Print a simple message to the console\n",
    "print(\"Hello, world!\")\n",
    "\n",
    "# Print the value of a variable\n",
    "x = 10\n",
    "print(\"The value of x is:\", x)\n",
    "\n",
    "# Print multiple values using string formatting\n",
    "name = \"Alice\"\n",
    "age = 25\n",
    "print(\"My name is {} and I'm {} years old.\".format(name, age))\n",
    "\n",
    "# Print using f-strings (Python 3.6 and later)\n",
    "print(f\"My name is {name} and I'm {age} years old.\")"
   ]
  },
  {
   "cell_type": "markdown",
   "metadata": {
    "id": "pTL16gXCiUpD"
   },
   "source": [
    "## Input Functionality in Python: `input()`\n",
    "\n",
    "In Python, you can use the built-in `input()` function to take input from the user."
   ]
  },
  {
   "cell_type": "code",
   "execution_count": null,
   "metadata": {
    "colab": {
     "base_uri": "https://localhost:8080/"
    },
    "id": "LSEOAf50ioAm",
    "outputId": "0d234ed7-d569-4048-84f9-b45637d3bf9a"
   },
   "outputs": [],
   "source": [
    "# Prompt the user for two numbers and add them together\n",
    "num1 = int(input(\"Enter the first number: \"))\n",
    "num2 = int(input(\"Enter the second number: \"))\n",
    "result = num1 + num2\n",
    "print(\"The sum of\", num1, \"and\", num2, \"is\", result)"
   ]
  },
  {
   "cell_type": "markdown",
   "metadata": {
    "id": "JA8QWgHRxw4t"
   },
   "source": [
    "## Question 3\n",
    "\n",
    "Write a program which uses the `input()` functionality to take 5 numbers in one go from the user (as a response to a single prompt `'Enter five numbers: '`) and prints each of the number separately in a new line.\n",
    "\n",
    "E.g.,\n",
    "\n",
    "Input: `1 2 3 4 5`.\n",
    "Output:\n",
    "```\n",
    "1\n",
    "2\n",
    "3\n",
    "4\n",
    "5\n",
    "```\n",
    "\n",
    "Hint: You will need to use the `print`, `input` and `string_variable.split()` functions. If you don't remember the `.split()` functionality, do a web search for it."
   ]
  },
  {
   "cell_type": "markdown",
   "metadata": {
    "id": "D21mJcWJzEqI"
   },
   "source": [
    "### Answer 3"
   ]
  },
  {
   "cell_type": "code",
   "execution_count": null,
   "metadata": {
    "colab": {
     "base_uri": "https://localhost:8080/"
    },
    "id": "5X5EKP6yzJmY",
    "outputId": "b05a61fd-3699-44b5-b224-2a7d4944e797"
   },
   "outputs": [],
   "source": [
    "\n",
    "\n",
    "\n",
    "\n",
    "\n"
   ]
  },
  {
   "cell_type": "markdown",
   "metadata": {
    "id": "qYDuX9liXGho"
   },
   "source": [
    "# Building Blocks of Deep Learning: Mutable and Immutable Data Types\n"
   ]
  },
  {
   "cell_type": "markdown",
   "metadata": {
    "id": "5bnjk-LMcNMZ"
   },
   "source": [
    "## Mutable Data Types\n",
    "\n",
    "In Python, **mutable data types** are those that **can be modified** after they have been created. This means that you can change the value of an existing object without creating a new object.\n",
    "\n",
    "Mutable data types can be useful in situations where you need to modify data structures **in place**, rather than creating new objects every time you need to make a change.\n",
    "\n",
    "However, you need to be careful when working with mutable data types, as modifying them can have unintended consequences, especially if they are shared between different parts of your code.\n",
    "\n",
    "Below we review three mutable data types: Lists, Dictionaries, and Sets."
   ]
  },
  {
   "cell_type": "markdown",
   "metadata": {
    "id": "w97yclQUcQnh"
   },
   "source": [
    "### Lists\n",
    "\n",
    "Lists are a **sequence of values** that can be modified by adding, removing, or changing elements. For example, you can append new elements to a list, remove elements from a list, or change the value of an element in a list.\n",
    "\n",
    "Lists are often used to **represent datasets or batches of data**. A dataset is a collection of input-output pairs that are used to train or evaluate a machine learning model."
   ]
  },
  {
   "cell_type": "code",
   "execution_count": null,
   "metadata": {
    "colab": {
     "base_uri": "https://localhost:8080/"
    },
    "id": "FPguoI9ejPIl",
    "outputId": "b4b52990-548c-484f-dc80-e7339dd15349"
   },
   "outputs": [],
   "source": [
    "# Creating a list of numbers\n",
    "numbers = [1, 2, 3, 4, 5]\n",
    "print('Current list: ', numbers)\n",
    "print('-'*100)\n",
    "\n",
    "# Accessing list elements\n",
    "print('The first number in the list: ', numbers[0])  # Output: 1\n",
    "print('The third number in the list: ', numbers[2])  # Output: 3\n",
    "print('-'*100)\n",
    "\n",
    "# Slicing a list\n",
    "print('The second to third numbers in the list: ', numbers[1:3])  # Output: [2, 3]\n",
    "print('-'*100)\n",
    "\n",
    "# Modifying list elements\n",
    "numbers[0] = 10\n",
    "print('The list with the modified first number: ', numbers)  # Output: [10, 2, 3, 4, 5]\n",
    "print('-'*100)\n",
    "\n",
    "# Adding elements to a list\n",
    "numbers.append(6)\n",
    "print('The list with a new number added to the rear: ', numbers)  # Output: [10, 2, 3, 4, 5, 6]\n",
    "print('-'*100)\n",
    "\n",
    "# Removing elements from a list\n",
    "numbers.remove(3)\n",
    "print('The list with number \"3\" removed from it: ', numbers)  # Output: [10, 2, 4, 5, 6]\n",
    "print('-'*100)\n",
    "\n",
    "# Looping through a list\n",
    "print('Iterating over each number in the list:')\n",
    "for number in numbers:\n",
    "    print(number, end=\" \")"
   ]
  },
  {
   "cell_type": "markdown",
   "metadata": {
    "id": "gE1tocx7zvsm"
   },
   "source": [
    "### Question 4\n",
    "\n",
    "Write a program which uses `input()` to take 5 numbers in one go (from one prompt), stores all 5 numbers in a list, and prints the list in the reverse order.\n",
    "\n",
    "E.g.,\n",
    "\n",
    "Input: `1 2 3 4 5`.\n",
    "Output: `['5', '4', '3', '2', '1']`\n",
    "\n",
    "Hint: Explore what `list_name[-1]` does."
   ]
  },
  {
   "cell_type": "markdown",
   "metadata": {
    "id": "yVyiSlxczvsn"
   },
   "source": [
    "#### Answer 4"
   ]
  },
  {
   "cell_type": "code",
   "execution_count": null,
   "metadata": {
    "colab": {
     "base_uri": "https://localhost:8080/"
    },
    "id": "j8oRfPckzvsn",
    "outputId": "099a317a-26db-4b4b-c1f0-3b709b6d64dd"
   },
   "outputs": [],
   "source": [
    "\n",
    "\n",
    "\n",
    "\n",
    "\n"
   ]
  },
  {
   "cell_type": "markdown",
   "metadata": {
    "id": "bMmwYCm4cW-S"
   },
   "source": [
    "### Dictionaries\n",
    "\n",
    "Dictionaries are a **collection of key-value pairs** that can be modified by adding, removing, or changing elements. For example, you can add new key-value pairs to a dictionary, remove key-value pairs from a dictionary, or change the value associated with a key in a dictionary.\n",
    "\n",
    "Dictionaries are often used to represent mappings between keys and values, such as labels and their corresponding indices.\n",
    "\n",
    "For example, in an image classification task, you might have image labels such as \"cat\", \"dog\", and \"bird\". Python dictionaries can be used to map these labels to integer indices:  `label_to_index = {\"cat\": 0, \"dog\": 1, \"bird\": 2}`. Here `\"cat\"`, `\"dog\"` and `\"bird\"` are the keys, and 0, 1, 2 are the corresponding values of each keys, respectively.\n",
    "\n",
    "Within the model being developed for the image classification task, these integer indices are actually the values that the model learns to output, but to eventually make the output more human-readable, we map the integer indices back to the string labels using the `label_to_index` dictionary.\n",
    "\n",
    "Below is a code snippet that shows the various functions that can be used to create and manipulate dictionaries in Python.\n"
   ]
  },
  {
   "cell_type": "code",
   "execution_count": null,
   "metadata": {
    "colab": {
     "base_uri": "https://localhost:8080/"
    },
    "id": "EWBXWihUkLM8",
    "outputId": "3be7cf69-0043-4bf3-efe9-c574ba77e88f"
   },
   "outputs": [],
   "source": [
    "# Creating a dictionary of student names and their grades\n",
    "grades = {'Alice': 90, 'Bob': 80, 'Charlie': 70}\n",
    "print('Current dictionary: ', grades)\n",
    "print('-'*100)\n",
    "\n",
    "# Accessing dictionary values\n",
    "print('Grade of Alice: ', grades['Alice'])  # Output: 90\n",
    "print('-'*100)\n",
    "\n",
    "# Modifying dictionary values\n",
    "grades['Bob'] = 85\n",
    "print('Grades dictionary with Bob\\'s modified grade: ', grades)  # Output: {'Alice': 90, 'Bob': 85, 'Charlie': 70}\n",
    "print('-'*100)\n",
    "\n",
    "# Adding items to a dictionary\n",
    "grades['Dave'] = 95\n",
    "print('Grades dictionary with Dave\\'s grade added: ', grades)  # Output: {'Alice': 90, 'Bob': 85, 'Charlie': 70, 'Dave': 95}\n",
    "print('-'*100)\n",
    "\n",
    "# Removing items from a dictionary\n",
    "del grades['Charlie']\n",
    "print('Grades dictionary with Charlie\\'s grade removed: ', grades)  # Output: {'Alice': 90, 'Bob': 85, 'Dave': 95}\n",
    "print('-'*100)\n",
    "\n",
    "# Looping through a dictionary\n",
    "print('Iterating over each student\\'s grade:')\n",
    "for name, grade in grades.items():\n",
    "    print(name + \" scored \" + str(grade))"
   ]
  },
  {
   "cell_type": "markdown",
   "metadata": {
    "id": "tl3wLzFr0eId"
   },
   "source": [
    "### Question 5\n",
    "\n",
    "Given the dictionary in the codeblock below, sort the dictionary in ascending order of the values in the key-value pairs. Print the sorted dictionary.\n",
    "\n",
    "\n",
    "E.g.,\n",
    "\n",
    "Given Input: `{'1one': 185, 'Two2': 848, 'a3': 268}`,\n",
    "\n",
    "Output: `{'1one': 185, 'a3': 268, 'Two2': 848}`."
   ]
  },
  {
   "cell_type": "markdown",
   "metadata": {
    "id": "aHDfUWgE0eId"
   },
   "source": [
    "#### Answer 5"
   ]
  },
  {
   "cell_type": "markdown",
   "metadata": {
    "id": "FY8EYUXbOfvC"
   },
   "source": [
    "Solution without using an anonymous function with `lambda` keyword"
   ]
  },
  {
   "cell_type": "code",
   "execution_count": null,
   "metadata": {
    "colab": {
     "base_uri": "https://localhost:8080/"
    },
    "id": "FtmydDfBLrK4",
    "outputId": "6041a0e7-e289-4feb-884c-57d508817126"
   },
   "outputs": [],
   "source": [
    "dictionary = {'1one': 185, 'Two2': 848, 'a3': 268}\n",
    "\n",
    "# Enter your code here:\n",
    "\n",
    "\n"
   ]
  },
  {
   "cell_type": "markdown",
   "metadata": {
    "id": "R6MZds4vcdKD"
   },
   "source": [
    "### Sets\n",
    "\n",
    "Sets are an **unordered collection of unique elements** that can be modified by adding or removing elements. For example, you can add new elements to a set, remove elements from a set, or perform set operations like union, intersection, and difference.\n",
    "\n",
    "In some cases, deep learning datasets may contain duplicate examples or labels. Sets can be used to efficiently **remove duplicates** from a list or array.\n",
    "\n",
    "Below is a code snippet that shows the various functions that can be used to create and manipulate sets in Python."
   ]
  },
  {
   "cell_type": "code",
   "execution_count": null,
   "metadata": {
    "colab": {
     "base_uri": "https://localhost:8080/"
    },
    "id": "YJfjEjOsk5-K",
    "outputId": "b4e0d2b8-9a56-40ce-d6da-d425f8386742"
   },
   "outputs": [],
   "source": [
    "# Creating a set of unique integers\n",
    "numbers = {1, 2, 3, 4, 5}\n",
    "print('Current set: ', numbers)\n",
    "print('-'*100)\n",
    "\n",
    "# Adding elements to a set\n",
    "numbers.add(6)\n",
    "print('Numbers set with a new number \"6\" added: ', numbers)  # Output: {1, 2, 3, 4, 5, 6}\n",
    "print('-'*100)\n",
    "\n",
    "# Removing elements from a set\n",
    "numbers.remove(3)\n",
    "print('Numbers set with number \"3\" removed: ', numbers)  # Output: {1, 2, 4, 5, 6}\n",
    "print('-'*100)\n",
    "\n",
    "# Checking if an element is in a set\n",
    "print('Is number \"2\" in the set?', 2 in numbers)  # Output: True\n",
    "print('Is number \"3\" in the set?', 3 in numbers)  # Output: False\n",
    "print('-'*100)\n",
    "\n",
    "# Set operations\n",
    "set1 = {1, 2, 3, 4}\n",
    "set2 = {3, 4, 5, 6}\n",
    "\n",
    "print('Taking union of two sets: ', set1.union(set2))  # Output: {1, 2, 3, 4, 5, 6}\n",
    "print('-'*100)\n",
    "\n",
    "print('Taking intersection of two sets: ', set1.intersection(set2))  # Output: {3, 4}\n",
    "print('-'*100)\n",
    "\n",
    "print('Taking difference of two sets: ', set1.difference(set2))  # Output: {1, 2}\n",
    "print('-'*100)\n",
    "\n",
    "print('Taking symmetric difference of two sets: ', set1.symmetric_difference(set2))  # Output: {1, 2, 5, 6}\n",
    "print('-'*100)"
   ]
  },
  {
   "cell_type": "markdown",
   "metadata": {
    "id": "eiahvdBL3KoQ"
   },
   "source": [
    "### Question 6\n",
    "\n",
    "Given two sets, remove the elements from the first set, which are not present in the second set. Print the modified first set.\n",
    "\n",
    "E.g.,\n",
    "\n",
    "First given set: `{1 2 3 4 5}`,\n",
    "\n",
    "Second given set: `{2 4 6 7}`,\n",
    "\n",
    "Output: `{1 3 5}`."
   ]
  },
  {
   "cell_type": "markdown",
   "metadata": {
    "id": "NlXGE6qL3dUC"
   },
   "source": [
    "#### Answer 6"
   ]
  },
  {
   "cell_type": "code",
   "execution_count": null,
   "metadata": {
    "colab": {
     "base_uri": "https://localhost:8080/"
    },
    "id": "GgcaM-9H4so_",
    "outputId": "0d7c7b88-11b1-4bc2-c5fb-c980bbb75402"
   },
   "outputs": [],
   "source": [
    "set1 = {1, 2, 3, 4, 5}\n",
    "set2 = {2, 4, 6, 7}\n",
    "\n",
    "# Enter your code here:\n",
    "\n",
    "\n",
    "\n"
   ]
  },
  {
   "cell_type": "markdown",
   "metadata": {
    "id": "FvpIsd4jcwGG"
   },
   "source": [
    "## Immutable Data Types\n",
    "\n",
    "In Python, **immutable data types** are those that cannot be modified after they have been created. This means that if you want to change the value of an immutable object, you must create a new object with the desired value.\n",
    "\n",
    "Immutable data types are useful in situations where you want to ensure that the value of an object **remains constant** throughout your program.\n",
    "\n",
    "For example, if you want to use a string as a dictionary key, you should use an immutable string object, as a mutable string object could change its value and cause the dictionary key to become invalid.\n",
    "\n",
    "Additionally, immutable data types are often **more efficient** than mutable data types, as they can be cached and reused when their value is needed multiple times.\n",
    "\n",
    "Below we review three immutable data types: Strings, Tuples and Numbers"
   ]
  },
  {
   "cell_type": "markdown",
   "metadata": {
    "id": "IpQ4l3PWdE5A"
   },
   "source": [
    "### Strings\n",
    "\n",
    "Strings are a **sequence of characters** that cannot be modified in place. If you want to change the value of a string, you must create a new string with the desired value.\n",
    "\n",
    "Strings are commonly used to **represent text data**, such as natural language sentences or labels.\n",
    "\n",
    "Below is a code snippet that shows the various functions that can be used to create and manipulate strings in Python."
   ]
  },
  {
   "cell_type": "code",
   "execution_count": null,
   "metadata": {
    "colab": {
     "base_uri": "https://localhost:8080/"
    },
    "id": "r4aA6ohqli-v",
    "outputId": "d34efbe3-1ce6-4998-c3fd-daa1acb4c341"
   },
   "outputs": [],
   "source": [
    "# Creating a string\n",
    "my_string = \"Hello, World!\"\n",
    "print('Current string: ', my_string)\n",
    "print('-'*100)\n",
    "\n",
    "# Accessing characters in a string\n",
    "print('First character of the string: ', my_string[0])  # Output: 'H'\n",
    "print('Last character of the string: ',my_string[-1])  # Output: '!'\n",
    "print('-'*100)\n",
    "\n",
    "# Slicing a string\n",
    "print('First 5 letters of the string: ',my_string[0:5])  # Output: 'Hello'\n",
    "print('All the letters starting with the 8th letter in the string: ',my_string[7:])  # Output: 'World!'\n",
    "print('-'*100)\n",
    "\n",
    "# Concatenating strings\n",
    "name = \"Alice\"\n",
    "greeting = \"Hello, \" + name + \"!\"\n",
    "print('Updated string: ',greeting)  # Output: 'Hello, Alice!'\n",
    "print('-'*100)\n",
    "\n",
    "# String methods\n",
    "print('String in lower case: ',my_string.lower())  # Output: 'hello, world!'\n",
    "print('String in upper case: ',my_string.upper())  # Output: 'HELLO, WORLD!'\n",
    "print('Replacing a word in the string: ',my_string.replace('World', 'Python'))  # Output: 'Hello, Python!'\n",
    "print('-'*100)\n",
    "\n",
    "# Formatting strings\n",
    "age = 30\n",
    "print(\"I am {} years old\".format(age))  # Output: 'I am 30 years old'\n",
    "print(f\"I am {age} years old\")  # Output: 'I am 30 years old'\n",
    "print('-'*100)"
   ]
  },
  {
   "cell_type": "markdown",
   "metadata": {
    "id": "jDV4qZtZ5TTL"
   },
   "source": [
    "### Question 7\n",
    "\n",
    "A palindrome is a word, number, phrase, or other sequence of characters which reads the same backward and forward, such as \"madam\" or \"racecar\". There are also numeric palindromes, including date/time stamps such as 11/11/11 11:11 and 02/02/2020.\n",
    "\n",
    "Write a function `is_palindrome(s)` to determine whether a given string s is a palindrome or not.\n",
    "\n",
    "Test the code by exploring numeric and alphanumeric examples that are palindromes and those that are not palindromes.\n",
    "\n",
    "Hint:\n",
    "\n",
    "`string_variable.split()` splits a string into a list of characters\n",
    "\n",
    "`array_variable[::-1]` reverses an array"
   ]
  },
  {
   "cell_type": "markdown",
   "metadata": {
    "id": "plI2oXfr5Vyj"
   },
   "source": [
    "#### Answer 7"
   ]
  },
  {
   "cell_type": "code",
   "execution_count": null,
   "metadata": {
    "colab": {
     "base_uri": "https://localhost:8080/"
    },
    "id": "h1x0gucj5zyG",
    "outputId": "9f8786dd-8991-4001-d6cb-e043fff7411d"
   },
   "outputs": [],
   "source": [
    "\n",
    "\n",
    "\n",
    "\n",
    "\n"
   ]
  },
  {
   "cell_type": "markdown",
   "metadata": {
    "id": "gQzp8WEydHwC"
   },
   "source": [
    "### Tuples\n",
    "\n",
    "Tuples are an ordered collection of elements that cannot be modified in place. If you want to change the value of a tuple, you must create a new tuple with the desired value.\n",
    "\n",
    "A model training function may need to **return multiple values**, such as both the output of a deep learning model and its corresponding loss value.\n",
    "\n",
    "A tuple would be an useful data type for such an output. Using a tuple, we can bundle these values together and return them as a single object.\n",
    "\n",
    "Below is a code snippet that shows the various functions that can be used to create and manipulate tuples in Python."
   ]
  },
  {
   "cell_type": "code",
   "execution_count": null,
   "metadata": {
    "colab": {
     "base_uri": "https://localhost:8080/"
    },
    "id": "mtNMuK8ymfje",
    "outputId": "ec5e6dc9-509e-4631-c0ca-a0dff7a19e35"
   },
   "outputs": [],
   "source": [
    "# Creating a tuple\n",
    "my_tuple = (1, 2, 3, \"four\", 5.0)\n",
    "print('Current tuple: ', my_tuple)\n",
    "print('-'*100)\n",
    "\n",
    "# Accessing elements in a tuple\n",
    "print('First item of the tuple: ', my_tuple[0])  # Output: 1\n",
    "print('Fourth item of the tuple: ', my_tuple[3])  # Output: 'four'\n",
    "print('-'*100)\n",
    "\n",
    "# Slicing a tuple\n",
    "print('Second to fourth items of the tuple: ', my_tuple[1:4])  # Output: (2, 3, 'four')\n",
    "print('-'*100)\n",
    "\n",
    "# Attempting to modify a tuple (will result in an error)\n",
    "try:\n",
    "  my_tuple[0] = 10  # Output: TypeError: 'tuple' object does not support item assignment\n",
    "except Exception as e:\n",
    "  print(e)\n",
    "print('-'*100)\n",
    "\n",
    "# Unpacking a tuple\n",
    "a, b, c, d, e = my_tuple\n",
    "print('First unpacked item from the tuple: ', a)  # Output: 1\n",
    "print('Fifth unpacked item from the tuple: ', e)  # Output: 5.0\n",
    "print('-'*100)\n",
    "\n",
    "# Tuple methods\n",
    "print('Length of the tuple: ', len(my_tuple))  # Output: 5\n",
    "print('Count of \"2\" in the tuple: ', my_tuple.count(2))  # Output: 1\n",
    "print('Index of \"four\" in the tuple: ', my_tuple.index(\"four\"))  # Output: 3"
   ]
  },
  {
   "cell_type": "markdown",
   "metadata": {
    "id": "tjeQeaeM57lH"
   },
   "source": [
    "### Question 8\n",
    "\n",
    "Given a list of tuples, convert it into a dictionary.\n",
    "\n",
    "E.g.,\n",
    "\n",
    "Given Input: `[(\"text\",5), (\"number\",\"a\")]`,\n",
    "\n",
    "Output: `{'text': 5, 'number': 'a'}`."
   ]
  },
  {
   "cell_type": "markdown",
   "metadata": {
    "id": "VgzE14mP5-Mh"
   },
   "source": [
    "#### Answer 8"
   ]
  },
  {
   "cell_type": "code",
   "execution_count": null,
   "metadata": {
    "colab": {
     "base_uri": "https://localhost:8080/"
    },
    "id": "g5lVA6ZM7ikV",
    "outputId": "6cd873b4-295d-410f-efb2-2981e66fba6f"
   },
   "outputs": [],
   "source": [
    "list_of_tuples = [(\"text\",5), (\"number\",\"a\")]\n",
    "\n",
    "# Enter your code here:\n",
    "\n",
    "\n",
    "\n"
   ]
  },
  {
   "cell_type": "markdown",
   "metadata": {
    "id": "k6DwyUFJdL47"
   },
   "source": [
    "### Numbers\n",
    "\n",
    "Numeric data types like integers, floats, and complex numbers are also immutable in Python. If you want to change the value of a number, you must create a new number with the desired value.\n",
    "\n",
    "In most deep learning tasks, input data is represented as numerical features.\n",
    "\n",
    "For example, in an image classification task, **each pixel value** in the input image can be represented as a floating-point number between 0 and 1.\n",
    "\n",
    "Below we review various numerical operations in Python."
   ]
  },
  {
   "cell_type": "code",
   "execution_count": null,
   "metadata": {
    "colab": {
     "base_uri": "https://localhost:8080/"
    },
    "id": "JEVgM3l-nj0w",
    "outputId": "b04aafb0-5d40-4382-9920-02d677e5f44f"
   },
   "outputs": [],
   "source": [
    "# Integer\n",
    "a = 5\n",
    "b = 10\n",
    "\n",
    "# Float\n",
    "c = 3.14159\n",
    "d = 2.71828\n",
    "\n",
    "# Addition\n",
    "sum = a + b\n",
    "print('Sum of ' + str(a) + ' and ' + str(b) + ' is ' + str(sum))  # Output: 15\n",
    "\n",
    "# Subtraction\n",
    "diff = b - a\n",
    "print('Difference between ' + str(b) + ' and ' + str(a) + ' is ' + str(diff))  # Output: 5\n",
    "\n",
    "# Multiplication\n",
    "prod = a * b\n",
    "print('Product of ' + str(a) + ' with ' + str(b) + ' is ' + str(prod))   # Output: 50\n",
    "\n",
    "# Division\n",
    "quotient = b / a\n",
    "print('Quotient of division of ' + str(b) + ' by ' + str(b) + ' is ' + str(quotient))   # Output: 2.0 (always returns a float)\n",
    "print('-'*100)\n",
    "\n",
    "# Integer division (returns the floor of the division result)\n",
    "floor_div = b // a\n",
    "print('Quotient of division without remainder of ' + str(b) + ' by ' + str(b) + ' is ' + str(floor_div))   # Output: 2\n",
    "\n",
    "# Modulo (returns the remainder of division)\n",
    "remainder = b % a\n",
    "print('Remainder of division of' + str(b) + ' by ' + str(b) + ' is ' + str(remainder))  # Output: 0\n",
    "print('-'*100)\n",
    "\n",
    "# Exponentiation\n",
    "exp = c ** 2\n",
    "print('Exponential of c to the 2nd power is ', exp)  # Output: 9.8695871\n",
    "print('-'*100)\n",
    "\n",
    "# Built-in functions\n",
    "print('Absolute value of -10 is ', abs(-10))  # Output: 10\n",
    "print('Rounded value of pi is ', round(3.14159, 2))  # Output: 3.14\n",
    "print('Maximum values in a list of numbers from 1 to 5 is ', max(1, 2, 3, 4, 5))  # Output: 5\n",
    "print('Minimum value in a list of numbers from 1 to 5 is ', min(1, 2, 3, 4, 5))  # Output: 1\n"
   ]
  },
  {
   "cell_type": "markdown",
   "metadata": {
    "id": "64k-x3AB7Vw6"
   },
   "source": [
    "### Question 9\n",
    "\n",
    "Write a program that takes in a sequence of 5 numbers and stores the square of those numbers in a list. Print the list of squared values.\n",
    "\n",
    "E.g.:\n",
    "\n",
    "Input numbers: `1 2 3 4 5`\n",
    "\n",
    "Output: `[1 4 9 16 25]`"
   ]
  },
  {
   "cell_type": "markdown",
   "metadata": {
    "id": "_CuBvxH87XkS"
   },
   "source": [
    "#### Answer 9"
   ]
  },
  {
   "cell_type": "code",
   "execution_count": null,
   "metadata": {
    "colab": {
     "base_uri": "https://localhost:8080/"
    },
    "id": "vRTpkRuu8-qq",
    "outputId": "5ff1d26f-3c72-4301-f735-d0bc3b7a9606"
   },
   "outputs": [],
   "source": [
    "\n",
    "\n",
    "\n",
    "\n",
    "\n"
   ]
  },
  {
   "cell_type": "markdown",
   "metadata": {
    "id": "uHy6DbGiXP1Y"
   },
   "source": [
    "# Loop Statements\n",
    "\n",
    "Loops are used to execute a block of code **repeatedly**.\n",
    "\n",
    "There are two main types of loops in Python: for loops and while loops.\n",
    "\n",
    "Loops are an important part of programming in Python, as they allow you to automate repetitive tasks and **iterate over large datasets**.\n",
    "\n",
    "It is important to use loops judiciously and optimize them for performance, as they can be computationally heavy, if used improperly."
   ]
  },
  {
   "cell_type": "markdown",
   "metadata": {
    "id": "d1RezMpddmd8"
   },
   "source": [
    "## `For` loop\n",
    "\n",
    "`For` loops are used to iterate over a sequence of values, such as a list, tuple, or string.\n",
    "\n",
    "Below is a code snippet that shows the various examples of loop use."
   ]
  },
  {
   "cell_type": "code",
   "execution_count": null,
   "metadata": {
    "colab": {
     "base_uri": "https://localhost:8080/"
    },
    "id": "OJC4VWwlo93r",
    "outputId": "a69236f6-62f6-4d2c-b774-ef53962e717e"
   },
   "outputs": [],
   "source": [
    "# Loop over a list\n",
    "fruits = [\"apple\", \"banana\", \"cherry\"]\n",
    "print('Printing fruits:')\n",
    "for fruit in fruits:\n",
    "    print(fruit)\n",
    "print('-'*100)\n",
    "\n",
    "# Loop over a range of numbers\n",
    "print('Printing numbers:')\n",
    "for i in range(5):\n",
    "    print(i)\n",
    "print('-'*100)\n",
    "\n",
    "# Loop over a range of numbers with a step\n",
    "print('Printing numbers with intervals:')\n",
    "for i in range(1, 10, 2):\n",
    "    print(i)\n",
    "print('-'*100)\n",
    "\n",
    "# Loop over a dictionary\n",
    "print('Printing dictionary key-value pairs:')\n",
    "person = {\"name\": \"Alice\", \"age\": 30, \"gender\": \"female\"}\n",
    "for key, value in person.items():\n",
    "    print(key, value)\n",
    "print('-'*100)"
   ]
  },
  {
   "cell_type": "markdown",
   "metadata": {
    "id": "qApwRRCQ_KMM"
   },
   "source": [
    "## Question 10\n",
    "\n",
    "Write a short program using a `for` loop that takes in a sequence of integers and outputs the result of multiplying all those values.\n",
    "\n",
    "E.g.\n",
    "\n",
    "Input values: `1 2 3 4 5`\n",
    "\n",
    "Output: `120`"
   ]
  },
  {
   "cell_type": "markdown",
   "metadata": {
    "id": "ztuOEd2T8Q7F"
   },
   "source": [
    "### Answer 10"
   ]
  },
  {
   "cell_type": "code",
   "execution_count": null,
   "metadata": {
    "colab": {
     "base_uri": "https://localhost:8080/"
    },
    "id": "i_yKqYo9_LKE",
    "outputId": "b47c4c77-d954-48bf-c22d-604b35c1b5c0"
   },
   "outputs": [],
   "source": [
    "\n",
    "\n",
    "\n",
    "\n",
    "\n"
   ]
  },
  {
   "cell_type": "markdown",
   "metadata": {
    "id": "zA9ksg8jdrFn"
   },
   "source": [
    "## `While` loop\n",
    "\n",
    "`While` loops are used to repeatedly execute a block of code as long as a certain condition is true."
   ]
  },
  {
   "cell_type": "code",
   "execution_count": null,
   "metadata": {
    "colab": {
     "base_uri": "https://localhost:8080/"
    },
    "id": "_D3A6XkGqdqW",
    "outputId": "013f9b51-8b2d-4494-8900-753da376feff"
   },
   "outputs": [],
   "source": [
    "# Count from 1 to 5 using a while loop\n",
    "print('Count from 1 to 5 using a while loop.')\n",
    "i = 1\n",
    "while i <= 5:\n",
    "    print(i)\n",
    "    i += 1\n",
    "print('-'*100)\n",
    "\n",
    "# Sum the numbers from 1 to 10 using a while loop\n",
    "print('Sum the numbers from 1 to 10 using a while loop.')\n",
    "sum = 0\n",
    "i = 1\n",
    "while i <= 10:\n",
    "    sum += i\n",
    "    i += 1\n",
    "print(\"The sum is:\", sum)"
   ]
  },
  {
   "cell_type": "markdown",
   "metadata": {
    "id": "62ugYE7H8UsD"
   },
   "source": [
    "## Question 11\n",
    "\n",
    "Write a program using `while` that prints all even numbers between 2 and 15\n",
    "\n",
    "The output should look like this:\n",
    "`2\n",
    "4\n",
    "6\n",
    "8\n",
    "10\n",
    "12\n",
    "14`\n"
   ]
  },
  {
   "cell_type": "markdown",
   "metadata": {
    "id": "VN7h4YUE8UsE"
   },
   "source": [
    "### Answer 11"
   ]
  },
  {
   "cell_type": "markdown",
   "metadata": {
    "id": "Iwoj3ICfAZNP"
   },
   "source": []
  },
  {
   "cell_type": "code",
   "execution_count": null,
   "metadata": {
    "colab": {
     "base_uri": "https://localhost:8080/"
    },
    "id": "x29xyz9eAQWL",
    "outputId": "b4792149-a49b-4501-92fd-ccfb568a2ca9"
   },
   "outputs": [],
   "source": [
    "\n",
    "\n",
    "\n",
    "\n",
    "\n"
   ]
  },
  {
   "cell_type": "markdown",
   "metadata": {
    "id": "yqn85UkrdaxD"
   },
   "source": [
    "# Conditional Statements\n",
    "\n",
    "Conditional statements are used in Python to execute different code blocks depending on the value of a certain condition."
   ]
  },
  {
   "cell_type": "markdown",
   "metadata": {
    "id": "rTXSzsqXfpM2"
   },
   "source": [
    "## `if-elif-else` statement\n",
    "\n",
    "Th `if-elif-else` statement allows you to test multiple conditions in sequence, and execute different code blocks based on which condition is true.\n",
    "\n",
    "If the condition is true, the code block following the `if` statement is executed. If the condition is false, the code block is skipped.\n",
    "\n",
    "The `elif` statement stands for \"else if\", and allows you to test additional conditions after the initial `if` statement. To note, you can have multiple `elif` statements in the sequence.\n",
    "\n",
    "If none of the conditions are true, the code block following the final `else` statement is executed.\n",
    "\n",
    "When training a deep learning model, you may want to try out different architectures or hyperparameters to see which one performs best. For that, you can use `if-elif-else` statements to identify and select the model or hyperparameters that achieve the highest accuracy on a validation set.\n",
    "\n",
    "The code snippet below demonstrates the use of the `if-elif-else` statements."
   ]
  },
  {
   "cell_type": "code",
   "execution_count": null,
   "metadata": {
    "colab": {
     "base_uri": "https://localhost:8080/"
    },
    "id": "ctPEgqh5rTsJ",
    "outputId": "46212edf-a936-4e55-d2c4-910630e08a1f"
   },
   "outputs": [],
   "source": [
    "# Determine the loan eligibility for a given user\n",
    "income = 60000\n",
    "credit_score = 725\n",
    "debt_to_income_ratio = 0.4\n",
    "\n",
    "if income >= 80000:\n",
    "    if credit_score >= 750:\n",
    "        loan_eligibility = \"High\"\n",
    "    else:\n",
    "        loan_eligibility = \"Medium\"\n",
    "elif income >= 60000:\n",
    "    if credit_score >= 700 and debt_to_income_ratio < 0.35:\n",
    "        loan_eligibility = \"High\"\n",
    "    else:\n",
    "        loan_eligibility = \"Medium\"\n",
    "else:\n",
    "    loan_eligibility = \"Low\"\n",
    "\n",
    "print(\"Loan eligibility for income $\", income, \", credit score of\", credit_score, \", and debt-to-income ratio of\", debt_to_income_ratio, \"is\", loan_eligibility)\n"
   ]
  },
  {
   "cell_type": "markdown",
   "metadata": {
    "id": "9d0OAUpB8b6e"
   },
   "source": [
    "## Question 12\n",
    "Write a program that takes a value as input, and prints if the value is positive or negative, and even or odd.\n",
    "\n",
    "E.g.\n",
    "\n",
    "Input value: `-4`\n",
    "\n",
    "Output value: \"Even and Negative\"\n"
   ]
  },
  {
   "cell_type": "markdown",
   "metadata": {
    "id": "qg6iIMDH8b6e"
   },
   "source": [
    "### Answer 12"
   ]
  },
  {
   "cell_type": "code",
   "execution_count": null,
   "metadata": {
    "colab": {
     "base_uri": "https://localhost:8080/"
    },
    "id": "CHp6f0iDBGr4",
    "outputId": "15afc54d-463c-456c-8b8a-65d8571ab00b"
   },
   "outputs": [],
   "source": [
    "input_value = int(input())\n",
    "\n",
    "# Enter your code here:\n",
    "\n",
    "\n",
    "\n"
   ]
  },
  {
   "cell_type": "markdown",
   "metadata": {
    "id": "BNm_dpCcftgd"
   },
   "source": [
    "## `try-except` statement\n",
    "\n",
    "When working with large datasets or complex models, it is not unusual to encounter errors during training or evaluation. You can use `try-except` statements to handle these errors and take appropriate actions, such as skipping over a particular data point or restarting the training process.\n",
    "\n",
    "The way these paired statements work is this: The code block you want to execute to further the logic of the program is added following the `try` statement. The action to be taken if an error is encountered is added following the corresponding `except` block.\n",
    "\n",
    "Once that code block in the try statement is executed, if there are no errors, then the `except` block statement(s) are not executed. If an exception occurs, the code block following the corresponding `except` statement is executed, so that the error is dealt with gracefully, rather than the entire process failing without recourse.\n",
    "\n",
    "See the code snippet below to see an example of how `try-except` code snippets are used."
   ]
  },
  {
   "cell_type": "code",
   "execution_count": null,
   "metadata": {
    "colab": {
     "base_uri": "https://localhost:8080/"
    },
    "id": "D2zBqhH2rd9q",
    "outputId": "82097820-f55d-4fb8-d9dd-43c979bd4de5"
   },
   "outputs": [],
   "source": [
    "# Take input from user and divide it by 5\n",
    "try:\n",
    "    number = int(input(\"Enter a number: \"))\n",
    "    result = 5 / number\n",
    "    print(\"The result is:\", result)\n",
    "except ValueError:\n",
    "    print(\"Invalid input. Please enter a valid number.\")\n",
    "except ZeroDivisionError:\n",
    "    print(\"You cannot divide by zero.\")\n",
    "except Exception as e:\n",
    "    print(\"An error occurred:\", str(e))\n"
   ]
  },
  {
   "cell_type": "markdown",
   "metadata": {
    "id": "M8RMhHUzXR-o"
   },
   "source": [
    "# File Manipulations"
   ]
  },
  {
   "cell_type": "markdown",
   "metadata": {
    "id": "Pc7WL4yBhPcU"
   },
   "source": [
    "## Writing files\n",
    "\n",
    "To write to a file in Python, you can use the built-in `open()` function along with a file object in write or append mode (`'w'`), depending on whether you want to overwrite the existing file or add new content to it."
   ]
  },
  {
   "cell_type": "code",
   "execution_count": null,
   "metadata": {
    "id": "pxnXtxTasdZp"
   },
   "outputs": [],
   "source": [
    "# We shall try to write a list to a text file\n",
    "example = []\n",
    "\n",
    "# Populating the list\n",
    "for i in range(10):\n",
    "  example.append(i)\n",
    "\n",
    "# The open function has 2 arguments, the location of the document\n",
    "# and the permission given to the program\n",
    "# Here we are giving our program write access to the example.txt file\n",
    "\n",
    "# The open() function creates the file described if it does not exist, but it does not create directories.\n",
    "with open('/content/sample_data/example.txt', 'w') as file:\n",
    "# the write() function takes in a string, as we can only write strings to a text file\n",
    "# We are typecasting the list to a string\n",
    "  file.write(str(example))"
   ]
  },
  {
   "cell_type": "markdown",
   "metadata": {
    "id": "IEtYgcIXhNsL"
   },
   "source": [
    "## Reading files\n",
    "\n",
    "To read a file in Python, you can use the built-in `open()` function along with a file object in read mode (`'r'`) to read the contents of the file."
   ]
  },
  {
   "cell_type": "code",
   "execution_count": null,
   "metadata": {
    "colab": {
     "base_uri": "https://localhost:8080/"
    },
    "id": "pCqlccSNsJpO",
    "outputId": "76e00d5d-c1ae-44fb-df56-b5a944e3a7d1"
   },
   "outputs": [],
   "source": [
    "# In order to only allow read access we can give the second argument as 'r'\n",
    "with open('/content/sample_data/example.txt', 'r') as file:\n",
    "  # Loading the string in the text file\n",
    "  string = file.read()\n",
    "# We can only write and read strings\n",
    "print(\"Type of read file: \",type(string))\n",
    "\n",
    "# Here we typecast the string back into a list of integers\n",
    "list_of_int = list(string)\n",
    "print(\"Type of type cast data: \",type(list_of_int))"
   ]
  },
  {
   "cell_type": "markdown",
   "metadata": {},
   "source": [
    "# Python Functions\n",
    "\n",
    "Functions allow you to **break down complex programs** into smaller, more manageable pieces of code, making your code more modular, reusable, and easier to understand.\n",
    "\n",
    "Neural networks are complex systems that can be **composed of many pieces**, each piece consisting of one or more functions. These functions are applied to the input data to transform it into a more meaningful representation, which is then fed to the next function."
   ]
  },
  {
   "cell_type": "code",
   "execution_count": null,
   "metadata": {},
   "outputs": [],
   "source": [
    "def add_numbers(x, y):\n",
    "    result = x + y\n",
    "    return result"
   ]
  },
  {
   "cell_type": "code",
   "execution_count": null,
   "metadata": {},
   "outputs": [],
   "source": [
    "sum = add_numbers(2, 3)\n",
    "print(sum) # Output: 5"
   ]
  },
  {
   "cell_type": "markdown",
   "metadata": {},
   "source": [
    "## Functions with keyword arguments\n",
    "\n",
    "A function can also be called with the arguments passed in a different order, as long as we use the keyword arguments to specify which argument is which."
   ]
  },
  {
   "cell_type": "code",
   "execution_count": null,
   "metadata": {},
   "outputs": [],
   "source": [
    "def greet(name, greeting=\"Hello\"):\n",
    "    print(greeting, name)\n",
    "\n",
    "# Call the function with only the required argument\n",
    "greet(\"Alice\")   # Output: Hello Alice\n",
    "\n",
    "# Call the function with both arguments\n",
    "greet(\"Bob\", \"Hi\")   # Output: Hi Bob\n",
    "\n",
    "# Call the function with only the default argument\n",
    "greet(greeting=\"Bonjour\", name=\"Claire\")   # Output: Bonjour Claire"
   ]
  },
  {
   "cell_type": "markdown",
   "metadata": {},
   "source": [
    "## Question 13\n",
    "\n",
    "Create a function `is_number` taking one argument `value`. The function should validate whether the input argument is a number (can be an integer, a float, a complex number) or not. All non-number arguments should result in `TypeError`.\n",
    "\n",
    "Example:\n",
    "\n",
    "```\n",
    "print(is_number(3j))\n",
    "> 3j\n",
    "print(is_number(\"4.2\"))\n",
    "> TypeError: numeric value expected, got str\n",
    "```"
   ]
  },
  {
   "cell_type": "markdown",
   "metadata": {},
   "source": [
    "### Answer 13"
   ]
  },
  {
   "cell_type": "code",
   "execution_count": null,
   "metadata": {},
   "outputs": [],
   "source": [
    "\n",
    "\n",
    "\n",
    "\n"
   ]
  },
  {
   "cell_type": "markdown",
   "metadata": {},
   "source": [
    "# Python Objects\n",
    "Python is an object-oriented programming language, which means that almost everything in Python is an object. An object is an instance of a class, which defines the behavior and properties of that object.\n",
    "\n",
    "In this section, we will cover the basics of Python objects, including how to create and use objects, as well as how to define your own classes.\n",
    "\n",
    "Deep learning models are typically built using high-level APIs provided by popular frameworks like TensorFlow or PyTorch. These APIs provide classes and methods for defining the layers and architecture of the model as objects."
   ]
  },
  {
   "cell_type": "markdown",
   "metadata": {},
   "source": [
    "## Creating Objects\n",
    "In Python, you can create objects by instantiating a class. To do this, you simply call the class with parentheses, like this:\n",
    "\n",
    "\n",
    "\n",
    "```\n",
    "my_object = MyClass()\n",
    "```\n",
    "\n",
    "This creates an instance of the MyClass class and assigns it to the my_object variable. You can then use the methods and properties of this object."
   ]
  },
  {
   "cell_type": "markdown",
   "metadata": {},
   "source": [
    "## Properties and Methods\n",
    "Objects have properties and methods that define their behavior. Properties are variables that belong to an object, while methods are functions that belong to an object. You can access an object's properties and methods using dot notation, like this:\n",
    "\n",
    "\n",
    "```\n",
    "my_object = MyClass()\n",
    "my_object.my_property = \"Hello, world!\"\n",
    "print(my_object.my_method(8))\n",
    "```\n",
    "This code creates an instance of MyClass, sets the my_property property to the string \"Hello, world!\", and then calls the my_method method and prints its return value.\n",
    "\n",
    "\n"
   ]
  },
  {
   "cell_type": "markdown",
   "metadata": {},
   "source": [
    "##Defining Classes\n",
    "You can define your own classes in Python to create custom objects with the properties and methods that you need. To define a class, you use the class keyword, like this:\n",
    "\n"
   ]
  },
  {
   "cell_type": "code",
   "execution_count": null,
   "metadata": {},
   "outputs": [],
   "source": [
    "class MyClass:\n",
    "    # Every class has an init method, where the constructor of a class lies\n",
    "    # We define all properties and contructor arguments in this function\n",
    "    def __init__(self, my_property):\n",
    "        self.my_property = my_property\n",
    "\n",
    "    def my_method(self):\n",
    "        print(\"Hello from MyClass!\")\n",
    "\n",
    "# Setting and accessing a property in an object\n",
    "my_object = MyClass(\"Hello, world!\")\n",
    "print(my_object.my_property)\n",
    "\n",
    "# Calling any method in a class\n",
    "my_object.my_method()"
   ]
  },
  {
   "cell_type": "markdown",
   "metadata": {},
   "source": [
    "This code defines a MyClass class with a constructor that sets the my_property property and a my_method method that prints a message. It then creates an instance of MyClass, sets the my_property property to \"Hello, world!\", and calls the my_method method."
   ]
  },
  {
   "cell_type": "markdown",
   "metadata": {},
   "source": [
    "## Question 14\n",
    "\n",
    "Implement a class named `NumberList` (as a subclass of `list`; shown in the template below) which has the following functions:\n",
    "\n",
    "`.__init__()` which initiates a list by calling the init method of its super class `list`.\n",
    "\n",
    "`.insert(index, value)` to insert a new number `value` (if valid) at the position in the underlying list indicated by the value `index`.\n",
    "\n",
    "`.append(value)` to add a single new `value` at the end of the underlying list.\n",
    "\n",
    "`.is_number(value)` to validate that an input `value` is indeed a valid number (see the full description in Question 1).\n",
    "\n",
    "Note that you are allowed to use the already implemented functions of `list` class.\n",
    "\n",
    "Test your code on the given function calls."
   ]
  },
  {
   "cell_type": "markdown",
   "metadata": {},
   "source": [
    "\n",
    "\n",
    "```\n",
    "class NumberList(list):\n",
    "   ...\n",
    "   \n",
    "number_list = NumberList()\n",
    "try:\n",
    "  number_list.append(5)\n",
    "except:\n",
    "  pass\n",
    "print(number_list) # output: [5]\n",
    "\n",
    "try:\n",
    "  number_list.append(6j)\n",
    "except:\n",
    "  pass\n",
    "print(number_list) # output: [5, 6j]\n",
    "\n",
    "try:\n",
    "  number_list.append('1.1')\n",
    "except:\n",
    "  pass\n",
    "print(number_list) # output: [5, 6j]\n",
    "\n",
    "try:\n",
    "  number_list.insert(1, 1.1)\n",
    "except:\n",
    "  pass\n",
    "print(number_list) # output: [5, 1.1, 6j]\n",
    "```"
   ]
  },
  {
   "cell_type": "markdown",
   "metadata": {},
   "source": [
    "### Answer 14"
   ]
  },
  {
   "cell_type": "code",
   "execution_count": null,
   "metadata": {},
   "outputs": [],
   "source": [
    "class NumberList(list):\n",
    "    \n",
    "\n",
    "\n",
    "\n"
   ]
  },
  {
   "cell_type": "code",
   "execution_count": null,
   "metadata": {},
   "outputs": [],
   "source": [
    "# Then Test With This\n",
    "number_list = NumberList()\n",
    "try:\n",
    "  number_list.append(5)\n",
    "except:\n",
    "  pass\n",
    "print(number_list)\n",
    "\n",
    "try:\n",
    "  number_list.append(6j)\n",
    "except:\n",
    "  pass\n",
    "print(number_list)\n",
    "\n",
    "try:\n",
    "  number_list.append('1.1')\n",
    "except:\n",
    "  pass\n",
    "print(number_list)\n",
    "\n",
    "try:\n",
    "  number_list.insert(1, 1.1)\n",
    "except:\n",
    "  pass\n",
    "print(number_list)"
   ]
  },
  {
   "cell_type": "markdown",
   "metadata": {},
   "source": [
    "Example Output:\n",
    "```\n",
    "[5]\n",
    "[5, 6j]\n",
    "[5, 6j, '1.1']\n",
    "[5, 1.1, 6j, '1.1']\n",
    "```"
   ]
  },
  {
   "cell_type": "markdown",
   "metadata": {},
   "source": [
    "# Modules and Packages\n",
    "\n",
    "Python modules and packages are a way to **organize and reuse code** in a modular fashion. A module is a single file that contains Python code, while a package is a collection of modules that are organized into a directory structure.\n",
    "\n",
    "In this section we will cover the basics of Python modules and packages: how to import and use them in your code, and how to create your own modules and packages.\n",
    "\n",
    "Deep learning involves using a variety of libraries and modules such as TensorFlow, PyTorch, Keras, NumPy, and others. These libraries and modules provide a wide range of functions, methods, and tools to work with neural networks, as well as for data preparation and evaluation."
   ]
  },
  {
   "cell_type": "markdown",
   "metadata": {},
   "source": [
    "## Importing Modules\n",
    "In Python, you can import modules using the import keyword, like this:\n",
    "```\n",
    "import my_module\n",
    "```\n",
    "This code imports the my_module module, which must be available in the Python path (`sys.path`), which you can accomplish by putting it in the same directory as the Python script that is importing it.\n",
    "\n",
    "Now that the `my_module` is imported, you can use the functions and variables defined in it, like this:\n",
    "\n",
    "```\n",
    "result = my_module.my_function(5, 10)\n",
    "print(result)\n",
    "```\n"
   ]
  },
  {
   "cell_type": "markdown",
   "metadata": {},
   "source": [
    "## Importing Specific Functions or Variables\n",
    "You can also import specific functions or variables from a module using the from keyword, like this:\n",
    "\n",
    "```\n",
    "from my_module import my_function\n",
    "\n",
    "result = my_function(5, 10)\n",
    "print(result)\n",
    "```"
   ]
  },
  {
   "cell_type": "markdown",
   "metadata": {},
   "source": [
    "## Importing Modules from Packages\n",
    "If you have a package with multiple modules, you can import a module from the package using dot notation, like this:\n",
    "```\n",
    "import my_package.my_module\n",
    "\n",
    "result = my_package.my_module.my_function(5, 10)\n",
    "print(result)\n",
    "```"
   ]
  },
  {
   "cell_type": "markdown",
   "metadata": {},
   "source": [
    "## Creating Modules\n",
    "To create your own module, simply create a new Python file with the code you want to include, and save it with a .py extension. You can then import this module into your code using the import keyword."
   ]
  },
  {
   "cell_type": "markdown",
   "metadata": {},
   "source": [
    "## Creating Packages\n",
    "To create your own package, simply create a new directory with an empty `__init__.py` file and one or more Python modules inside. You can then import the modules from this package using dot notation, as we saw earlier.\n",
    "\n"
   ]
  },
  {
   "cell_type": "markdown",
   "metadata": {},
   "source": [
    "## Question 15\n",
    "\n",
    "Use `randint` function from `random` package and rename it to `random_integer`. Use this function to evaluate the following line.\n",
    "\n",
    "`print(random_integer(10, 50))`"
   ]
  },
  {
   "cell_type": "markdown",
   "metadata": {},
   "source": [
    "### Answer 15"
   ]
  },
  {
   "cell_type": "code",
   "execution_count": null,
   "metadata": {},
   "outputs": [],
   "source": [
    "\n",
    "\n",
    "\n",
    "\n"
   ]
  },
  {
   "cell_type": "markdown",
   "metadata": {},
   "source": [
    "# Handling Errors and Exceptions\n",
    "Python provides a powerful mechanism for handling errors and exceptions in your code. When an error occurs, Python will raise an exception, which you can then catch and handle in your code.\n",
    "\n",
    "Errors are a natural part of software development, and Python provides a way to handle errors and exceptions that occur during the execution of your code. In this notebook, we will cover the basics of handling errors and exceptions in Python, including how to catch and handle exceptions, as well as how to raise your own exceptions.\n",
    "\n",
    "When training a deep learning model, errors can occur due to a variety of reasons such as incorrect data formatting, incorrect hyperparameters, or a bug in the code. Error handling can help to identify the source of the error and fix the problem."
   ]
  },
  {
   "cell_type": "markdown",
   "metadata": {},
   "source": [
    "## Syntax Errors\n",
    "Syntax errors occur when you have a mistake in the syntax of your code. For example, if you forget a colon or a parenthesis, Python will raise a syntax error."
   ]
  },
  {
   "cell_type": "code",
   "execution_count": null,
   "metadata": {},
   "outputs": [],
   "source": [
    "# This will raise a syntax error\n",
    "if x = 5:\n",
    "    print(x)"
   ]
  },
  {
   "cell_type": "markdown",
   "metadata": {},
   "source": [
    "## Runtime Errors\n",
    "Runtime errors occur when your program is running and something goes wrong. These errors can be caused by a variety of reasons, such as division by zero, out of bounds array access, or attempting to access an object that does not exist. For example:"
   ]
  },
  {
   "cell_type": "code",
   "execution_count": null,
   "metadata": {},
   "outputs": [],
   "source": [
    "# This will raise an IndexError\n",
    "my_list = [1, 2, 3]\n",
    "print(my_list[3])"
   ]
  },
  {
   "cell_type": "markdown",
   "metadata": {},
   "source": [
    "## Exceptions\n",
    "Exceptions occur when your code encounters an error while running. For example, if you try to divide by zero, Python will raise a ZeroDivisionError exception."
   ]
  },
  {
   "cell_type": "code",
   "execution_count": null,
   "metadata": {},
   "outputs": [],
   "source": [
    "# This will raise a ZeroDivisionError exception\n",
    "x = 5 / 0"
   ]
  },
  {
   "cell_type": "markdown",
   "metadata": {},
   "source": [
    "## Catching Exceptions\n",
    "To catch exceptions in your code, you can use a try-except block. The try block contains the code that you want to run, and the except block contains the code that you want to run if an exception is raised."
   ]
  },
  {
   "cell_type": "code",
   "execution_count": null,
   "metadata": {},
   "outputs": [],
   "source": [
    "try:\n",
    "    x = 5 / 0\n",
    "except ZeroDivisionError:\n",
    "    print(\"Cannot divide by zero!\")"
   ]
  },
  {
   "cell_type": "markdown",
   "metadata": {},
   "source": [
    "## Handling Multiple Exceptions\n",
    "You can handle multiple exceptions by including multiple except blocks in your try-except block."
   ]
  },
  {
   "cell_type": "code",
   "execution_count": null,
   "metadata": {},
   "outputs": [],
   "source": [
    "try:\n",
    "    x = int(input(\"Enter a number: \"))\n",
    "    y = 5 / x\n",
    "except ValueError:\n",
    "    print(\"Invalid input!\")\n",
    "except ZeroDivisionError:\n",
    "    print(\"Cannot divide by zero!\")"
   ]
  },
  {
   "cell_type": "markdown",
   "metadata": {},
   "source": [
    "## Raising Exceptions\n",
    "You can also raise your own exceptions using the raise keyword.\n",
    "\n"
   ]
  },
  {
   "cell_type": "code",
   "execution_count": null,
   "metadata": {},
   "outputs": [],
   "source": [
    "def divide(x, y):\n",
    "    if y == 0:\n",
    "        raise ZeroDivisionError(\"Cannot divide by zero!\")\n",
    "    return x / y\n",
    "\n",
    "try:\n",
    "    result = divide(5, 0)\n",
    "except ZeroDivisionError as e:\n",
    "    print(e)"
   ]
  },
  {
   "cell_type": "markdown",
   "metadata": {},
   "source": [
    "## Finally Blocks\n",
    "You can also include a finally block in your try-except block. The code in the finally block will always be executed, regardless of whether an exception is raised or not.\n",
    "\n"
   ]
  },
  {
   "cell_type": "code",
   "execution_count": null,
   "metadata": {},
   "outputs": [],
   "source": [
    "try:\n",
    "    x = 5 / 0\n",
    "except ZeroDivisionError:\n",
    "    print(\"Cannot divide by zero!\")\n",
    "finally:\n",
    "    print(\"This will always be executed.\")"
   ]
  },
  {
   "cell_type": "markdown",
   "metadata": {},
   "source": [
    "## Question 16\n",
    "\n",
    "Write a division function which first makes sure (using `try-except`) that\n",
    "\n",
    "* the dividend and divisors are valid numbers\n",
    "* the divisor is not zero"
   ]
  },
  {
   "cell_type": "markdown",
   "metadata": {},
   "source": [
    "### Answer 16\n"
   ]
  },
  {
   "cell_type": "code",
   "execution_count": null,
   "metadata": {},
   "outputs": [],
   "source": [
    "\n",
    "\n",
    "\n",
    "\n"
   ]
  },
  {
   "cell_type": "markdown",
   "metadata": {},
   "source": [
    "# Debugging in Python\n",
    "Debugging is the process of identifying and fixing errors in your code. It can be a time-consuming and frustrating process, but it is an essential skill for any programmer. In this notebook, we will cover the basics of debugging in Python.\n",
    "\n"
   ]
  },
  {
   "cell_type": "markdown",
   "metadata": {},
   "source": [
    "## Types of Errors\n",
    "There are three types of errors that can occur in Python:\n",
    "\n",
    "1. Syntax Errors: Errors that occur when the code violates the syntax rules of Python. These errors are caught by the Python interpreter and reported with a message that indicates the line number and type of error.\n",
    "\n",
    "2. Runtime Errors: Errors that occur when your program is running and something goes wrong. These errors can be caused by a variety of reasons, such as division by zero, out of bounds array access, or attempting to access an object that does not exist.\n",
    "\n",
    "3. Logical Errors: Errors that occur when the code runs without any syntax or runtime errors, but produces incorrect results. These errors are caused by incorrect logic or assumptions in the code."
   ]
  },
  {
   "cell_type": "markdown",
   "metadata": {},
   "source": [
    "##Techniques for Debugging\n",
    "There are several techniques that can be used to debug Python code:"
   ]
  },
  {
   "cell_type": "markdown",
   "metadata": {},
   "source": [
    "### 1. Print Statements\n",
    "One of the most common and simplest debugging techniques is to insert print statements in the code to print out the values of variables and other relevant information at various points in the code. This can help you identify where the error is occurring and what the values of the variables are at that point.\n",
    "\n"
   ]
  },
  {
   "cell_type": "code",
   "execution_count": null,
   "metadata": {},
   "outputs": [],
   "source": [
    "# Example of using print statements to debug code\n",
    "x = 5\n",
    "y = 10\n",
    "z = x + y\n",
    "print(\"The value of z is:\", z)"
   ]
  },
  {
   "cell_type": "markdown",
   "metadata": {},
   "source": [
    "### 2. Using the Debugger\n",
    "Python comes with a built-in debugger that allows you to step through your code line by line and inspect the values of variables and other information as the code is running. To use the debugger, you need to insert a breakpoint() function call at the point in the code where you want to start debugging.\n",
    "\n",
    "The `breakpoint()` function call opens up a debugger command line which has many commands that you can read about here: https://docs.python.org/3/library/pdb.html#debugger-commands\n",
    "\n",
    "Some of the basic ones are:\n",
    "\n",
    "1. **continue**: Continue execution, only stop when a breakpoint is encountered.\n",
    "\n",
    "2. **step**: Execute the current line, stop at the first possible occasion (either in a function that is called or on the next line in the current function).\n",
    "\n",
    "3. **next**: Continue execution until the next line in the current function is reached or it returns. (The difference between next and step is that step stops inside a called function, while next executes called functions at (nearly) full speed, only stopping at the next line in the current function.)\n",
    "\n",
    "\n"
   ]
  },
  {
   "cell_type": "code",
   "execution_count": null,
   "metadata": {},
   "outputs": [],
   "source": [
    "# Example of using the debugger to debug code\n",
    "x = 5\n",
    "y = 10\n",
    "breakpoint()\n",
    "z = x + y"
   ]
  },
  {
   "cell_type": "markdown",
   "metadata": {},
   "source": [
    "### 3. Tracebacks\n",
    "When a Python program encounters an error, it generates a traceback, which is a list of function calls that were in progress at the time the error occurred. The traceback can be used to identify where the error occurred and what function calls were made leading up to the error.\n",
    "\n"
   ]
  },
  {
   "cell_type": "code",
   "execution_count": null,
   "metadata": {},
   "outputs": [],
   "source": [
    "# Example of using tracebacks to debug code\n",
    "def func1():\n",
    "    x = 5\n",
    "    y = 10\n",
    "    func2(x, y)\n",
    "\n",
    "def func2(a, b):\n",
    "    z = a + b\n",
    "    func3(z)\n",
    "\n",
    "def func3(c):\n",
    "    breakpoint()\n",
    "\n",
    "func1()"
   ]
  },
  {
   "cell_type": "markdown",
   "metadata": {},
   "source": [
    "### 4. Using Assertions\n",
    "Assertions are statements that check if a condition is true and raise an error if it is not. They can be used to check the correctness of the program's assumptions about the state of the program. For example:"
   ]
  },
  {
   "cell_type": "code",
   "execution_count": null,
   "metadata": {},
   "outputs": [],
   "source": [
    "# Example of using assertions to debug code\n",
    "def divide(x, y):\n",
    "    assert y != 0, \"Cannot divide by zero!\"\n",
    "    return x / y\n",
    "\n",
    "result = divide(10, 0)\n"
   ]
  },
  {
   "cell_type": "markdown",
   "metadata": {},
   "source": [
    "## Question 17\n",
    "\n",
    "Find bugs in the function `add_question_marks` given below.\n",
    "\n",
    "The expected output is `?h?e?l?l?o?` but the current implementation only gives `o?`.\n",
    "\n",
    "Rewrite the fixed function. Note that you cannot implement your own function, you need to find and fix the bugs in the existing function."
   ]
  },
  {
   "cell_type": "code",
   "execution_count": null,
   "metadata": {},
   "outputs": [],
   "source": [
    "def add_question_marks(word):\n",
    "    new_word = \"?\"\n",
    "    for i in range(len(word)):\n",
    "        new_word = word[i] + \"?\"\n",
    "    return new_word\n",
    "\n",
    "phrase = \"hello\"\n",
    "print(add_question_marks(phrase))"
   ]
  },
  {
   "cell_type": "markdown",
   "metadata": {},
   "source": [
    "### Answer 17\n"
   ]
  },
  {
   "cell_type": "code",
   "execution_count": null,
   "metadata": {},
   "outputs": [],
   "source": [
    "\n",
    "\n",
    "\n",
    "\n"
   ]
  },
  {
   "cell_type": "markdown",
   "metadata": {},
   "source": [
    "### When you are ready to submit, upload this Notebook to your Github repository. (Check the guide to Github Classrooms to see how this works.)"
   ]
  }
 ],
 "metadata": {
  "colab": {
   "provenance": [],
   "toc_visible": true
  },
  "kernelspec": {
   "display_name": "Python 3 (ipykernel)",
   "language": "python",
   "name": "python3"
  },
  "language_info": {
   "codemirror_mode": {
    "name": "ipython",
    "version": 3
   },
   "file_extension": ".py",
   "mimetype": "text/x-python",
   "name": "python",
   "nbconvert_exporter": "python",
   "pygments_lexer": "ipython3",
   "version": "3.9.18"
  }
 },
 "nbformat": 4,
 "nbformat_minor": 1
}
