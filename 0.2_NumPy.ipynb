{
 "cells": [
  {
   "cell_type": "markdown",
   "metadata": {},
   "source": [
    "# Module 0.2 - NumPy\n",
    "\n",
    "_PAS4AI Workforce Summer 2024_\n",
    "\n",
    "[![Open In Colab](https://colab.research.google.com/assets/colab-badge.svg)](https://colab.research.google.com/github/joonbugs/My-Test-Repository/blob/main/Large_Language_Models.ipynb)"
   ]
  },
  {
   "cell_type": "markdown",
   "metadata": {},
   "source": [
    "# LLM Rules:\n",
    "You may freely use the 'modules_llm' discord bot. You may not use any other LLM. \n",
    "\n",
    "This discord bot uses the same prompt as the function from Module 0, but has the ability to \"remember\" past responses.\n",
    "\n",
    "You should explain the prompts that you used and how the responses helped you as comments in the respective answer cells. \n",
    "If you use the llm to find out what a function does, you should also search for that answer online and see if you can find it/understand the documentation - state this as a comment in your answer cell."
   ]
  },
  {
   "cell_type": "markdown",
   "metadata": {
    "id": "9OAUiMgadLr1"
   },
   "source": [
    "# What is NumPy?\n",
    "\n",
    "NumPy is a Python library for **numerical computations**. It provides high-performance multidimensional array objects and functions for working with these arrays. NumPy is widely used in scientific computing and data analysis.\n",
    "\n",
    "In Deep Learning, NumPy is used to represent and manipulate numerical data, such as **images or text**, as multidimensional arrays, which are then used as inputs to neural networks.\n",
    "\n",
    "NumPy also provides efficient implementations of mathematical operations, such as matrix multiplication and convolution, which are the building blocks of many DL algorithms."
   ]
  },
  {
   "cell_type": "code",
   "execution_count": null,
   "metadata": {
    "id": "wuFWjVb5in0p"
   },
   "outputs": [],
   "source": [
    "import numpy as np"
   ]
  },
  {
   "cell_type": "markdown",
   "metadata": {
    "id": "gzxlRts5dwF4"
   },
   "source": [
    "## NumPy 1D Arrays\n",
    "\n",
    "A one-dimensional NumPy array is a data structure that represents a sequence of values of the same data type arranged in a single row. It can be created using the `numpy.array()` function, which takes a list or tuple of values as input.\n",
    "\n",
    "One-dimensional arrays can be indexed and sliced like Python lists, and support vectorized operations, such as addition or multiplication by a scalar, element-wise addition or multiplication, and more.\n",
    "\n",
    "One-dimensional arrays are commonly used to **represent time-series data, signal processing**, or as inputs to machine learning models."
   ]
  },
  {
   "cell_type": "code",
   "execution_count": null,
   "metadata": {
    "id": "pSMPqjyHimih"
   },
   "outputs": [],
   "source": [
    "a = np.array([1,2,3])"
   ]
  },
  {
   "cell_type": "markdown",
   "metadata": {
    "id": "cXj_IboOdzPT"
   },
   "source": [
    "## NumPy 2D Arrays\n",
    "\n",
    "A two-dimensional NumPy array is a data structure that represents a table of values arranged in rows and columns. It can be created using the **numpy.array()** function with a list of lists as input, where each nested list represents a row of values.\n",
    "\n",
    "Two-dimensional arrays can be indexed and sliced using row and column indices, and support various mathematical operations, such as matrix multiplication and element-wise addition or multiplication.\n",
    "\n",
    "Two-dimensional arrays are commonly used to **represent images, tabular data**, or as inputs to machine learning models."
   ]
  },
  {
   "cell_type": "code",
   "execution_count": null,
   "metadata": {
    "id": "qdvKvtxgiqKo"
   },
   "outputs": [],
   "source": [
    "b = np.array([(1.5,2,3), (4,5,6)], dtype = float)"
   ]
  },
  {
   "cell_type": "markdown",
   "metadata": {
    "id": "jQ4oedaXd36V"
   },
   "source": [
    "## NumPy 3D Arrays\n",
    "\n",
    "A three-dimensional NumPy array is a data structure that represents a collection of 2D arrays arranged along a third axis. It can be created using the `numpy.array()` function with a list of 2D arrays as input, where each 2D array represents a slice along the third axis.\n",
    "\n",
    "Three-dimensional arrays can be indexed and sliced using three indices that correspond to the three axes. They support various mathematical operations, such as element-wise addition or multiplication, matrix multiplication, and convolution.\n",
    "\n",
    "Three-dimensional arrays are commonly used to **represent volumetric data** in medical imaging, computer graphics, or as inputs to 3D convolutional neural networks in deep learning.\n",
    "\n",
    "\n",
    "\n"
   ]
  },
  {
   "cell_type": "code",
   "execution_count": null,
   "metadata": {
    "id": "2efthX9pizEv"
   },
   "outputs": [],
   "source": [
    "c = np.array([[(1.5,2,3), (4,5,6)],[(3,2,1), (4,5,6)]], dtype = float)"
   ]
  },
  {
   "cell_type": "markdown",
   "metadata": {
    "id": "qllhWrvzd_LT"
   },
   "source": [
    "# Placeholders"
   ]
  },
  {
   "cell_type": "markdown",
   "metadata": {
    "id": "lM6je5P7eA4s"
   },
   "source": [
    "## ```np.zeros((a,b))```"
   ]
  },
  {
   "cell_type": "code",
   "execution_count": null,
   "metadata": {
    "colab": {
     "base_uri": "https://localhost:8080/"
    },
    "id": "NlPEFxRkrO-M",
    "outputId": "7d2835c7-60c0-47c7-94fc-e4049c380c58"
   },
   "outputs": [],
   "source": [
    "# Creates an array of zeros of the size a x b.\n",
    "print(np.zeros((2, 3)))"
   ]
  },
  {
   "cell_type": "markdown",
   "metadata": {
    "id": "Fg91ehcIeF21"
   },
   "source": [
    "## ```np.ones((a,b))```"
   ]
  },
  {
   "cell_type": "code",
   "execution_count": null,
   "metadata": {
    "colab": {
     "base_uri": "https://localhost:8080/"
    },
    "id": "-9FAyi8Urihn",
    "outputId": "05653971-209e-43e6-9598-0452d82693c7"
   },
   "outputs": [],
   "source": [
    "# Creates an array of ones of the size a x b.\n",
    "print(np.ones((4, 5)))"
   ]
  },
  {
   "cell_type": "markdown",
   "metadata": {
    "id": "aVKLNnJkgfK-"
   },
   "source": [
    "##```np.arrange(a,b,c)```\n"
   ]
  },
  {
   "cell_type": "code",
   "execution_count": null,
   "metadata": {
    "colab": {
     "base_uri": "https://localhost:8080/"
    },
    "id": "VcvQ7bbHrsX7",
    "outputId": "33f165e2-2ced-45eb-892d-e73defc1b69c"
   },
   "outputs": [],
   "source": [
    "# Creates an array of evenly spaced values with gaps of c(step value) between a and b.\n",
    "print(np.arange(10,25,2))"
   ]
  },
  {
   "cell_type": "markdown",
   "metadata": {
    "id": "QSAJhcNwgoFD"
   },
   "source": [
    "##```np.linspace(a,b,c)```"
   ]
  },
  {
   "cell_type": "code",
   "execution_count": null,
   "metadata": {
    "colab": {
     "base_uri": "https://localhost:8080/"
    },
    "id": "4QXu_2IXr2rc",
    "outputId": "8efad52a-ae75-440c-b828-d4d87d6e653a"
   },
   "outputs": [],
   "source": [
    "# Creates an array of evenly spaced values with c samples between a and b.\n",
    "print(np.linspace(10,25,4))"
   ]
  },
  {
   "cell_type": "markdown",
   "metadata": {
    "id": "nxzRugkaguub"
   },
   "source": [
    "##```np.random.random((a,b))```\n"
   ]
  },
  {
   "cell_type": "code",
   "execution_count": null,
   "metadata": {
    "colab": {
     "base_uri": "https://localhost:8080/"
    },
    "id": "GpNEkd4Er_vM",
    "outputId": "dd74b509-21fe-4427-ec5d-de88bc2d9efe"
   },
   "outputs": [],
   "source": [
    "# Creates an array with random values of the size of a x b.\n",
    "print(np.random.random((2, 3)))"
   ]
  },
  {
   "cell_type": "markdown",
   "metadata": {
    "id": "XvKunYOig3b8"
   },
   "source": [
    "## ```np.empty((a,b))```\n",
    "\n",
    "`empty`, unlike `zeros`, does not set the array values to zero, and may therefore be marginally faster. On the other hand, it requires the user to manually set all the values in the array, and should be used with caution."
   ]
  },
  {
   "cell_type": "code",
   "execution_count": null,
   "metadata": {
    "colab": {
     "base_uri": "https://localhost:8080/"
    },
    "id": "weeD6IZ5sNeI",
    "outputId": "dc1b3e1c-004d-4d63-e0a4-9d5190ed70e4"
   },
   "outputs": [],
   "source": [
    "# Create an empty array of the size a x b.\n",
    "print(np.empty((4, 6)))"
   ]
  },
  {
   "cell_type": "markdown",
   "metadata": {
    "id": "BhPw6OhECBam"
   },
   "source": [
    "# Question 1\n",
    "\n",
    "Go through NumPy documentation, and find a method which can be used to merge two numpy arrays as follows:\n",
    "\n",
    "```\n",
    "a = np.array([[10, 30, 15], [20, 10, 5]])\n",
    "b = np.array([[45, 35, 20]])\n",
    "\n",
    "merged_a_b = array([[10, 30, 15],\n",
    "                    [20, 10, 5],\n",
    "                    [45, 35, 20]])\n",
    "```\n",
    "\n",
    "Use that method and print the merged array."
   ]
  },
  {
   "cell_type": "markdown",
   "metadata": {
    "id": "39ETZgT-Cbpy"
   },
   "source": [
    "## Answer 1"
   ]
  },
  {
   "cell_type": "code",
   "execution_count": null,
   "metadata": {
    "colab": {
     "base_uri": "https://localhost:8080/"
    },
    "id": "KT-gcgHsCda6",
    "outputId": "5ce55db8-db07-481b-ca3f-92743e597a38"
   },
   "outputs": [],
   "source": [
    "\n",
    "\n",
    "\n",
    "\n"
   ]
  },
  {
   "cell_type": "markdown",
   "metadata": {},
   "source": [
    "Example Output:\n",
    "\n",
    "```\n",
    "array([[10, 30, 15],\n",
    "       [20, 10,  5],\n",
    "       [45, 35, 20]])\n",
    "```"
   ]
  },
  {
   "cell_type": "markdown",
   "metadata": {
    "id": "6qpdKOOVDrht"
   },
   "source": [
    "# Question 2\n",
    "\n",
    "Use a numpy method to duplicate contents of an array across rows and columns as follows:\n",
    "\n",
    "\n",
    "\n",
    "```\n",
    "a = np.array([[-2, -10],[5, -4]])\n",
    "\n",
    "duplicated_rows_cols_a = array([[ -2,  -2,  -2, -10, -10, -10],\n",
    "                                [  5,   5,   5,  -4,  -4,  -4]])\n",
    "\n",
    "```\n",
    "\n"
   ]
  },
  {
   "cell_type": "markdown",
   "metadata": {
    "id": "OyxuxmjBEHsu"
   },
   "source": [
    "## Answer 2"
   ]
  },
  {
   "cell_type": "code",
   "execution_count": null,
   "metadata": {
    "colab": {
     "base_uri": "https://localhost:8080/"
    },
    "id": "k1m8XjzkEJCt",
    "outputId": "cacc9df3-fee8-4a5b-cfa6-17b7e1be00f7"
   },
   "outputs": [],
   "source": [
    "\n",
    "\n",
    "\n",
    "\n",
    "\n"
   ]
  },
  {
   "cell_type": "markdown",
   "metadata": {},
   "source": [
    "Example Output:\n",
    "\n",
    "```\n",
    "array([[ -2,  -2,  -2, -10, -10, -10],\n",
    "       [  5,   5,   5,  -4,  -4,  -4]])\n",
    "```"
   ]
  },
  {
   "cell_type": "markdown",
   "metadata": {
    "id": "8-ul5j0VFIHu"
   },
   "source": [
    "# Question 3\n",
    "\n",
    "Convert the array of size `(3, 2, 2)`\n",
    "\n",
    "\n",
    "\n",
    "```\n",
    "a = [\n",
    "      [\n",
    "        [10, 30, 15],\n",
    "        [20, 10,  5]\n",
    "      ],\n",
    "      [\n",
    "        [2, 6, 4],\n",
    "        [9, 3,  0]\n",
    "      ],\n",
    "      [\n",
    "        [-4, -8, -8],\n",
    "        [-2, -9, -3]\n",
    "      ]\n",
    "    ]\n",
    "```\n",
    "\n",
    "into an array of size `(2, 3, 3)` by swapping the dimensions:\n",
    "\n",
    "\n",
    "\n",
    "```\n",
    "converted_a = [\n",
    "                [\n",
    "                  [10 30 15],\n",
    "                  [ 2  6  4],\n",
    "                  [-4 -8 -8]\n",
    "                ],\n",
    "                [\n",
    "                  [20 10  5],\n",
    "                  [ 9  3  0],\n",
    "                  [-2 -9 -3]\n",
    "                ]\n",
    "              ]\n",
    "```\n",
    "\n"
   ]
  },
  {
   "cell_type": "markdown",
   "metadata": {
    "id": "A_xBgSseFKJ9"
   },
   "source": [
    "## Answer 3"
   ]
  },
  {
   "cell_type": "code",
   "execution_count": null,
   "metadata": {
    "colab": {
     "base_uri": "https://localhost:8080/"
    },
    "id": "cGI2LRB7FL3I",
    "outputId": "621b9bae-366d-42ba-91f8-b90c6e7f756e"
   },
   "outputs": [],
   "source": [
    "\n",
    "\n",
    "\n",
    "\n",
    "\n"
   ]
  },
  {
   "cell_type": "markdown",
   "metadata": {},
   "source": [
    "Example Output:\n",
    "\n",
    "```\n",
    "Shape of a: (3, 2, 3)\n",
    "\n",
    "Shape of b: (2, 3, 3)\n",
    "[[[10 30 15]\n",
    "  [ 2  6  4]\n",
    "  [-4 -8 -8]]\n",
    "\n",
    " [[20 10  5]\n",
    "  [ 9  3  0]\n",
    "  [-2 -9 -3]]]\n",
    "```"
   ]
  },
  {
   "cell_type": "markdown",
   "metadata": {
    "id": "5HERScy3jzTR"
   },
   "source": [
    "# Data information and conversion"
   ]
  },
  {
   "cell_type": "code",
   "execution_count": null,
   "metadata": {
    "colab": {
     "base_uri": "https://localhost:8080/"
    },
    "id": "sbVg-Afyj4Js",
    "outputId": "ee6bc777-7f61-455b-d579-c86eded89128"
   },
   "outputs": [],
   "source": [
    "print(\"Shape of 1 dimensional array: \",a.shape) # Array dimensions\n",
    "print('-'*100)\n",
    "\n",
    "print(\"Length of 1 dimensional array: \",len(a)) # Length of array\n",
    "print('-'*100)\n",
    "\n",
    "print(\"Number of array dimensions: \",b.ndim) # Number of array dimensions\n",
    "print('-'*100)\n",
    "\n",
    "print(\"Number of elements in array: \",c.size) # Number of array elements\n",
    "print('-'*100)\n",
    "\n",
    "print(\"Datatype of array: \",b.dtype)  # Data type of array elements\n",
    "print('-'*100)\n",
    "\n",
    "print(\"Name of array datatype: \",b.dtype.name)  # Name of data type\n",
    "print('-'*100)\n",
    "\n",
    "print(\"Converting float to int:\\n\",b.astype(int)) # Convert an array to a different type"
   ]
  },
  {
   "cell_type": "markdown",
   "metadata": {
    "id": "Zjvq5z8Cum6G"
   },
   "source": [
    "# Mathematics"
   ]
  },
  {
   "cell_type": "markdown",
   "metadata": {
    "id": "lt9CRma3lpb5"
   },
   "source": [
    "## Arithmetic operations"
   ]
  },
  {
   "cell_type": "code",
   "execution_count": null,
   "metadata": {
    "colab": {
     "base_uri": "https://localhost:8080/",
     "height": 211
    },
    "id": "-92OaPgik_mP",
    "outputId": "ccdc4311-2946-4ac6-c136-b17e22ed21c6"
   },
   "outputs": [],
   "source": [
    "# All basic operations on arrays can be done with a function and with operators as with scalars\n",
    "print(\"Operator subtraction:\\n\", a - b)\n",
    "print('-'*100)\n",
    "\n",
    "print(\"Function subtraction:\\n\", np.subtract(a,b) )\n",
    "print('-'*100)\n",
    "\n",
    "print(\"Operator addition:\\n\", b + a)\n",
    "print('-'*100)\n",
    "\n",
    "print(\"Function addition:\\n\", np.add(b,a))\n",
    "print('-'*100)\n",
    "\n",
    "print('Take expontential:')\n",
    "print(np.exp(b))\n",
    "print('-'*100)\n",
    "\n",
    "print('Take square root:')\n",
    "print(np.sqrt(b))\n",
    "print('-'*100)\n",
    "\n",
    "print('Take sine:')\n",
    "print(np.sin(a))\n",
    "print('-'*100)\n",
    "\n",
    "print('Take cosine:')\n",
    "print(np.cos(b))\n",
    "print('-'*100)\n",
    "\n",
    "print('Take logarithm:')\n",
    "print(np.log(a))"
   ]
  },
  {
   "cell_type": "markdown",
   "metadata": {
    "id": "GxrgFmxVtHQK"
   },
   "source": [
    "## Comparison"
   ]
  },
  {
   "cell_type": "code",
   "execution_count": null,
   "metadata": {
    "id": "foBL4lZotGn2"
   },
   "outputs": [],
   "source": [
    "print('Element-wise equality comparison')\n",
    "print(a == b)\n",
    "print('-'*100)\n",
    "\n",
    "print('Element-wise inequality comparison')\n",
    "print(a < b)"
   ]
  },
  {
   "cell_type": "markdown",
   "metadata": {
    "id": "8q1SA3WAtcuX"
   },
   "source": [
    "## Aggregate"
   ]
  },
  {
   "cell_type": "code",
   "execution_count": null,
   "metadata": {
    "id": "yEP0_3vNtihr"
   },
   "outputs": [],
   "source": [
    "print('Take sum of all the elements of a')\n",
    "print(a.sum())\n",
    "print('-'*100)\n",
    "\n",
    "print('Take minimum out of all the elements of a')\n",
    "print(a.min())"
   ]
  },
  {
   "cell_type": "markdown",
   "metadata": {
    "id": "plSUIkIkueg_"
   },
   "source": [
    "# Subsetting, Slicing, Indexing"
   ]
  },
  {
   "cell_type": "markdown",
   "metadata": {
    "id": "yr8rOdUUutiz"
   },
   "source": [
    "## Subsetting"
   ]
  },
  {
   "cell_type": "code",
   "execution_count": null,
   "metadata": {
    "id": "74ivEb_mu-Wz"
   },
   "outputs": [],
   "source": [
    "print('Element at the 2nd index')\n",
    "print(a[2])\n",
    "print('-'*100)\n",
    "\n",
    "print('Element at 1st indexed row and 2nd indexed column')\n",
    "print(b[1, 2])"
   ]
  },
  {
   "cell_type": "markdown",
   "metadata": {
    "id": "49gna7GHuvGr"
   },
   "source": [
    "## Slicing"
   ]
  },
  {
   "cell_type": "code",
   "execution_count": null,
   "metadata": {
    "id": "67QhavmEvTrl"
   },
   "outputs": [],
   "source": [
    "print('Elements from 0th to 1st index')\n",
    "print(a[0:2])\n",
    "print('-'*100)\n",
    "print('')\n",
    "\n",
    "print('Elements at 0th and 1st row and 1st column')\n",
    "print(b[0:2, 1])\n",
    "print('-'*100)\n",
    "print('')\n",
    "\n",
    "print('All elements at row 0')\n",
    "print(b[:1])\n",
    "print('-'*100)\n",
    "print('')\n",
    "\n",
    "print('Reversing the array')\n",
    "print(a[::-1])"
   ]
  },
  {
   "cell_type": "markdown",
   "metadata": {
    "id": "-k3Tm3l1uxIF"
   },
   "source": [
    "## Indexing"
   ]
  },
  {
   "cell_type": "code",
   "execution_count": null,
   "metadata": {
    "id": "SAvvmnFTwJpj"
   },
   "outputs": [],
   "source": [
    "print('Show all elements which are less than 2 in the array')\n",
    "print(a[a < 2])"
   ]
  },
  {
   "cell_type": "markdown",
   "metadata": {
    "id": "b_iUpM-ZYV8U"
   },
   "source": [
    "# Matrices"
   ]
  },
  {
   "cell_type": "markdown",
   "metadata": {
    "id": "F3ZBZ4DlYx0_"
   },
   "source": [
    "## Matrix Multiplciation:\n",
    "\n",
    "Matrix multiplication is a fundamental operation in linear algebra and is used in a wide range of applications, including image processing, machine learning, and optimization. In NumPy, matrix multiplication can be performed using the dot function, which takes two arrays as input and returns their dot product."
   ]
  },
  {
   "cell_type": "code",
   "execution_count": null,
   "metadata": {
    "id": "Z7unB9ZqY0tQ"
   },
   "outputs": [],
   "source": [
    "# Create two matrices\n",
    "A = np.array([[1, 2], [3, 4]])\n",
    "B = np.array([[5, 6], [7, 8]])\n",
    "\n",
    "# Compute the dot product\n",
    "C = np.dot(A, B)\n",
    "\n",
    "print(C)"
   ]
  },
  {
   "cell_type": "markdown",
   "metadata": {
    "id": "ShnpYljeZrps"
   },
   "source": [
    "## Matrix Inverse\n",
    "Matrix inversion is the process of finding the inverse of a matrix, which is a matrix that, when multiplied by the original matrix, produces the identity matrix. In NumPy, matrix inversion can be performed using the inv function, which takes a matrix as input and returns its inverse.\n",
    "\n"
   ]
  },
  {
   "cell_type": "code",
   "execution_count": null,
   "metadata": {
    "id": "89e2zNXkZwTU"
   },
   "outputs": [],
   "source": [
    "# Create a matrix\n",
    "A = np.array([[1, 2], [3, 4]])\n",
    "\n",
    "# Compute the inverse\n",
    "A_inv = np.linalg.inv(A)\n",
    "\n",
    "print(A_inv)"
   ]
  },
  {
   "cell_type": "markdown",
   "metadata": {
    "id": "Y-8O2jh-ZziV"
   },
   "source": [
    "## Matrix Determinant\n",
    "The determinant of a matrix is a scalar value that can be used to determine certain properties of the matrix, such as whether it is invertible. In NumPy, matrix determinants can be computed using the det function, which takes a matrix as input and returns its determinant."
   ]
  },
  {
   "cell_type": "code",
   "execution_count": null,
   "metadata": {
    "id": "taR0e6nEZy7G"
   },
   "outputs": [],
   "source": [
    "# Create a matrix\n",
    "A = np.array([[1, 2], [3, 4]])\n",
    "\n",
    "# Compute the determinant\n",
    "det_A = np.linalg.det(A)\n",
    "\n",
    "print(det_A)"
   ]
  },
  {
   "cell_type": "markdown",
   "metadata": {
    "id": "0ugUSHH-Ic3U"
   },
   "source": [
    "# Question 4\n",
    "\n",
    "Multiply `[1, -1, 0]` with the **first** and the **third rows** of the given matrix `mat` row-wise, without using any loops.\n",
    "\n",
    "The second row of `multiplied_mat` should remain the same as second row of `mat`."
   ]
  },
  {
   "cell_type": "markdown",
   "metadata": {
    "id": "-3HHNbfcIejU"
   },
   "source": [
    "## Answer 4"
   ]
  },
  {
   "cell_type": "code",
   "execution_count": null,
   "metadata": {
    "id": "QTZb9MK6sorD"
   },
   "outputs": [],
   "source": [
    "\n",
    "\n",
    "\n",
    "\n",
    "\n"
   ]
  },
  {
   "cell_type": "markdown",
   "metadata": {},
   "source": [
    "Example Output:\n",
    "\n",
    "```\n",
    "[[ 10 -20   0]\n",
    " [ 30  20  10]\n",
    " [ 30 -10   0]]\n",
    "```"
   ]
  },
  {
   "cell_type": "markdown",
   "metadata": {
    "id": "jBD8FfJkIgrf"
   },
   "source": [
    "# Question 5\n",
    "\n",
    "Look up NumPy documentation and find a method which can be used to calculate the **rank** of a matrix.\n",
    "\n",
    "The **rank** of the matrix is the number of linearly independent column vectors in the matrix or the maximum number of linearly row vectors in the matrix.\n",
    "\n",
    "In other words, the rank is how many of the rows are \"unique\": not made of other rows.\n",
    "\n",
    "Print the rank of each of the following matricies."
   ]
  },
  {
   "cell_type": "code",
   "execution_count": null,
   "metadata": {},
   "outputs": [],
   "source": [
    "matrix1 = np.array([[1, 2, 3], [2, 4, 6]])\n",
    "\n",
    "matrix2 = np.array([[1, 2, 3], [2, -4, 6]])"
   ]
  },
  {
   "cell_type": "markdown",
   "metadata": {
    "id": "n4c3k4dDIgrg"
   },
   "source": [
    "## Answer 5"
   ]
  },
  {
   "cell_type": "code",
   "execution_count": null,
   "metadata": {
    "id": "qnTy53fxvKke"
   },
   "outputs": [],
   "source": [
    "\n",
    "\n",
    "\n",
    "\n",
    "\n"
   ]
  },
  {
   "cell_type": "markdown",
   "metadata": {},
   "source": [
    "Example Output:\n",
    "```\n",
    "1\n",
    "2\n",
    "```"
   ]
  },
  {
   "cell_type": "markdown",
   "metadata": {
    "id": "lOx3BcT0pDON"
   },
   "source": [
    "References:\n",
    "\n",
    "https://res.cloudinary.com/dyd911kmh/image/upload/v1676302459/Marketing/Blog/Numpy_Cheat_Sheet.pdf"
   ]
  },
  {
   "cell_type": "markdown",
   "metadata": {},
   "source": [
    "### When you are ready to submit, upload this Notebook to your Github repository. (Check the guide to Github Classrooms to see how this works.)"
   ]
  }
 ],
 "metadata": {
  "colab": {
   "provenance": [],
   "toc_visible": true
  },
  "kernelspec": {
   "display_name": "Python 3 (ipykernel)",
   "language": "python",
   "name": "python3"
  },
  "language_info": {
   "codemirror_mode": {
    "name": "ipython",
    "version": 3
   },
   "file_extension": ".py",
   "mimetype": "text/x-python",
   "name": "python",
   "nbconvert_exporter": "python",
   "pygments_lexer": "ipython3",
   "version": "3.9.18"
  }
 },
 "nbformat": 4,
 "nbformat_minor": 1
}
